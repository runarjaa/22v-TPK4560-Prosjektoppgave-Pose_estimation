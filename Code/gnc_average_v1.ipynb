{
 "cells": [
  {
   "cell_type": "code",
   "execution_count": 808,
   "metadata": {},
   "outputs": [],
   "source": [
    "from utils import *\n",
    "\n",
    "import numpy as np\n",
    "import matplotlib.pyplot as plt\n",
    "\n",
    "np.set_printoptions(formatter={'float': '{: 0.2f}'.format})"
   ]
  },
  {
   "cell_type": "code",
   "execution_count": 809,
   "metadata": {},
   "outputs": [],
   "source": [
    "# Input data\n",
    "\n",
    "# Amount of numbers \n",
    "center = 10\n",
    "std = 1\n",
    "n = 100\n",
    "\n",
    "numbers = np.random.normal(center, std, n)\n",
    "\n",
    "# gaussian = np.random.normal(center, std, n)\n",
    "# extra_noise = np.random.randint(-100,100,1000)\n",
    "# numbers = np.concatenate((gaussian, extra_noise))\n",
    "# n = numbers.shape[0]"
   ]
  },
  {
   "cell_type": "code",
   "execution_count": 810,
   "metadata": {},
   "outputs": [
    {
     "data": {
      "text/plain": [
       "11.478246728192453"
      ]
     },
     "execution_count": 810,
     "metadata": {},
     "output_type": "execute_result"
    }
   ],
   "source": [
    "# Initial value\n",
    "x0 = 1.0\n",
    "\n",
    "# Loss function initiation\n",
    "r = np.zeros(n)\n",
    "for i in range(n):\n",
    "    r[i] = np.linalg.norm(numbers[i] - x0)\n",
    "r0_max = np.max(r)\n",
    "r0_max"
   ]
  },
  {
   "cell_type": "code",
   "execution_count": 811,
   "metadata": {},
   "outputs": [
    {
     "name": "stdout",
     "output_type": "stream",
     "text": [
      "0.000151825533568035\n"
     ]
    }
   ],
   "source": [
    "# GNC initiation\n",
    "max_iterations = 1000\n",
    "eps = 0.2\n",
    "mu_update = 1.4\n",
    "w = np.ones(n)\n",
    "mu = eps**2 / (2*r0_max**2 - eps**2)\n",
    "print(mu)"
   ]
  },
  {
   "cell_type": "code",
   "execution_count": 812,
   "metadata": {},
   "outputs": [
    {
     "name": "stdout",
     "output_type": "stream",
     "text": [
      "Ended after 32 iterations\n",
      "\n"
     ]
    }
   ],
   "source": [
    "# GNC iteration\n",
    "last_iter = []\n",
    "x_iter = [x0]\n",
    "iterations = 0\n",
    "for i in range(max_iterations):\n",
    "    iterations += 1\n",
    "    last_iter.append(np.sum(w))\n",
    "    # Weighted average\n",
    "    x = np.dot(numbers,w)/np.sum(w)\n",
    "    x_iter.append(x)\n",
    "\n",
    "    # Loss function\n",
    "    for j in range(n):\n",
    "        r[j] = np.linalg.norm(numbers[j] - x)\n",
    "        w[j] = w_from_r(r[j], eps, mu)\n",
    "    \n",
    "    mu = mu_update * mu\n",
    "    \n",
    "    if i >= 5:\n",
    "        if np.sum(w) == last_iter[i]:\n",
    "            break\n",
    "\n",
    "print(\"Ended after\", iterations, \"iterations\\n\")"
   ]
  },
  {
   "cell_type": "code",
   "execution_count": 813,
   "metadata": {},
   "outputs": [
    {
     "name": "stdout",
     "output_type": "stream",
     "text": [
      "Inliers:\t 16 \n",
      "Outliers:\t 84 \n",
      "Percentage:\t 84.0\n"
     ]
    }
   ],
   "source": [
    "inliers = []\n",
    "outliers = []\n",
    "\n",
    "for i, n in enumerate(numbers):\n",
    "    if w[i] == 1.0:\n",
    "        inliers.append(n)\n",
    "    else:\n",
    "        outliers.append(n)\n",
    "\n",
    "percentage = (1-len(inliers)/(len(outliers)+len(inliers)))*100\n",
    "\n",
    "print(\"Inliers:\\t\", len(inliers), \"\\nOutliers:\\t\", len(outliers),\\\n",
    "    \"\\nPercentage:\\t\",percentage)"
   ]
  },
  {
   "cell_type": "code",
   "execution_count": 814,
   "metadata": {},
   "outputs": [
    {
     "name": "stdout",
     "output_type": "stream",
     "text": [
      "\n",
      " x = \n",
      " 10.066495775196802\n",
      "\n",
      " r = \n",
      " [ 2.41  0.39  0.84  0.62  0.24  1.09  0.68  1.87  1.16  1.19  1.18  0.82\n",
      "  0.45  0.95  0.29  0.31  0.25  0.15  0.02  0.98  0.83  1.42  0.41  2.22\n",
      "  1.37  0.84  1.91  0.41  0.70  0.42  0.53  1.45  1.01  1.79  1.10  1.07\n",
      "  0.50  0.09  0.83  0.09  0.92  0.95  0.15  1.16  0.78  0.89  0.58  1.01\n",
      "  0.98  0.05  0.14  0.04  0.48  0.26  1.20  1.41  1.03  1.40  0.07  0.41\n",
      "  0.91  0.62  1.42  1.79  0.35  1.21  0.26  1.27  0.45  1.56  0.38  0.02\n",
      "  1.26  0.11  2.46  2.13  1.26  0.11  0.03  0.34  0.46  0.30  0.36  0.02\n",
      "  0.80  0.30  2.11  0.05  0.40  0.11  1.44  0.77  0.29  0.46  0.47  0.84\n",
      "  0.68  0.50  0.35  1.21]\n",
      "\n",
      " w = \n",
      " [ 0.00  0.00  0.00  0.00  0.00  0.00  0.00  0.00  0.00  0.00  0.00  0.00\n",
      "  0.00  0.00  0.00  0.00  0.00  1.00  1.00  0.00  0.00  0.00  0.00  0.00\n",
      "  0.00  0.00  0.00  0.00  0.00  0.00  0.00  0.00  0.00  0.00  0.00  0.00\n",
      "  0.00  1.00  0.00  1.00  0.00  0.00  1.00  0.00  0.00  0.00  0.00  0.00\n",
      "  0.00  1.00  1.00  1.00  0.00  0.00  0.00  0.00  0.00  0.00  1.00  0.00\n",
      "  0.00  0.00  0.00  0.00  0.00  0.00  0.00  0.00  0.00  0.00  0.00  1.00\n",
      "  0.00  1.00  0.00  0.00  0.00  1.00  1.00  0.00  0.00  0.00  0.00  1.00\n",
      "  0.00  0.00  0.00  1.00  0.00  1.00  0.00  0.00  0.00  0.00  0.00  0.00\n",
      "  0.00  0.00  0.00  0.00]\n",
      "7.201814945745008\n"
     ]
    }
   ],
   "source": [
    "print(\"\\n x = \\n {}\".format(x))\n",
    "print(\"\\n r = \\n {}\".format(r))\n",
    "print(\"\\n w = \\n {}\".format(w))\n",
    "print(mu)"
   ]
  },
  {
   "cell_type": "code",
   "execution_count": 815,
   "metadata": {},
   "outputs": [
    {
     "data": {
      "image/png": "[encoded data removed]",
      "text/plain": [
       "<Figure size 432x288 with 1 Axes>"
      ]
     },
     "metadata": {
      "needs_background": "light"
     },
     "output_type": "display_data"
    }
   ],
   "source": [
    "count, bins, ignored = plt.hist(numbers, 100, density=True)\n",
    "plt.plot(bins, 1/(std * np.sqrt(2 * np.pi)) *\n",
    "               np.exp( - (bins - center)**2 / (2 * std**2) ),\n",
    "         linewidth=2, color='r')\n",
    "plt.axvline(x, linewidth=3 ,color='orange')\n",
    "plt.show()"
   ]
  },
  {
   "cell_type": "code",
   "execution_count": 816,
   "metadata": {},
   "outputs": [
    {
     "data": {
      "text/plain": [
       "[<matplotlib.lines.Line2D at 0x1b6ae1f57c0>]"
      ]
     },
     "execution_count": 816,
     "metadata": {},
     "output_type": "execute_result"
    },
    {
     "data": {
      "image/png": "[encoded data removed]",
      "text/plain": [
       "<Figure size 432x288 with 1 Axes>"
      ]
     },
     "metadata": {
      "needs_background": "light"
     },
     "output_type": "display_data"
    }
   ],
   "source": [
    "plt.plot(x_iter)"
   ]
  }
 ],
 "metadata": {
  "interpreter": {
   "hash": "5e520d53f3d2b9263b11734e9688a03c9809db32f2004241b6b6e64c140d8e27"
  },
  "kernelspec": {
   "display_name": "Python 3.8.12 ('Robot_env')",
   "language": "python",
   "name": "python3"
  },
  "language_info": {
   "codemirror_mode": {
    "name": "ipython",
    "version": 3
   },
   "file_extension": ".py",
   "mimetype": "text/x-python",
   "name": "python",
   "nbconvert_exporter": "python",
   "pygments_lexer": "ipython3",
   "version": "3.8.12"
  },
  "orig_nbformat": 4
 },
 "nbformat": 4,
 "nbformat_minor": 2
}

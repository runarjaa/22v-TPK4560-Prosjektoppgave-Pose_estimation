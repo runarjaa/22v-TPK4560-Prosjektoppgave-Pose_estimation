{
 "cells": [
  {
   "cell_type": "code",
   "execution_count": 1,
   "metadata": {},
   "outputs": [],
   "source": [
    "from utils import *\n",
    "\n",
    "import numpy as np\n",
    "import matplotlib.pyplot as plt\n",
    "\n",
    "np.set_printoptions(formatter={'float': '{: 0.2f}'.format})"
   ]
  },
  {
   "cell_type": "code",
   "execution_count": 2,
   "metadata": {},
   "outputs": [],
   "source": [
    "# Input data\n",
    "\n",
    "# Amount of numbers \n",
    "center = 10\n",
    "std = 1\n",
    "n = 100\n",
    "\n",
    "numbers = np.random.normal(center, std, n)\n",
    "\n",
    "# gaussian = np.random.normal(center, std, n)\n",
    "# extra_noise = np.random.randint(-100,100,1000)\n",
    "# numbers = np.concatenate((gaussian, extra_noise))\n",
    "# n = numbers.shape[0]"
   ]
  },
  {
   "cell_type": "code",
   "execution_count": 3,
   "metadata": {},
   "outputs": [
    {
     "name": "stdout",
     "output_type": "stream",
     "text": [
      "0.00015219315918019673\n"
     ]
    }
   ],
   "source": [
    "# GNC initiation\n",
    "# Initial value\n",
    "x0 = 1.0\n",
    "\n",
    "# Loss function initiation\n",
    "r = np.zeros(n)\n",
    "for i in range(n):\n",
    "    r[i] = np.linalg.norm(numbers[i] - x0)\n",
    "r0_max = np.max(r)\n",
    "\n",
    "max_iterations = 1000\n",
    "eps = 0.2\n",
    "mu_update = 1.4\n",
    "w = np.ones(n)\n",
    "mu = eps**2 / (2*r0_max**2 - eps**2)\n",
    "print(mu)"
   ]
  },
  {
   "cell_type": "code",
   "execution_count": 4,
   "metadata": {},
   "outputs": [
    {
     "name": "stdout",
     "output_type": "stream",
     "text": [
      "Ended after 37 iterations\n",
      "\n"
     ]
    }
   ],
   "source": [
    "# GNC iteration\n",
    "last_iter = []\n",
    "x_iter = []\n",
    "iterations = 0\n",
    "for i in range(max_iterations):\n",
    "    iterations += 1\n",
    "    last_iter.append(np.sum(w))\n",
    "    # Weighted average\n",
    "    x = np.dot(numbers,w)/np.sum(w)\n",
    "    x_iter.append(x)\n",
    "\n",
    "    # Loss function\n",
    "    for j in range(n):\n",
    "        r[j] = np.linalg.norm(numbers[j] - x)\n",
    "        w[j] = w_from_r(r[j], eps, mu)\n",
    "    \n",
    "    mu = mu_update * mu\n",
    "    \n",
    "    if i >= 5:\n",
    "        if np.sum(w) == last_iter[i]:\n",
    "            break\n",
    "\n",
    "print(\"Ended after\", iterations, \"iterations\\n\")"
   ]
  },
  {
   "cell_type": "code",
   "execution_count": 5,
   "metadata": {},
   "outputs": [
    {
     "name": "stdout",
     "output_type": "stream",
     "text": [
      "Inliers:\t 23 \n",
      "Outliers:\t 77 \n",
      "Percentage:\t 77.0 %\n"
     ]
    }
   ],
   "source": [
    "inliers = []\n",
    "outliers = []\n",
    "\n",
    "for i, n in enumerate(numbers):\n",
    "    if w[i] == 1.0:\n",
    "        inliers.append(n)\n",
    "    else:\n",
    "        outliers.append(n)\n",
    "\n",
    "percentage = (1-len(inliers)/(len(outliers)+len(inliers)))*100\n",
    "\n",
    "print(\"Inliers:\\t\", len(inliers), \"\\nOutliers:\\t\", len(outliers),\\\n",
    "    \"\\nPercentage:\\t\",percentage, \"%\")"
   ]
  },
  {
   "cell_type": "code",
   "execution_count": 6,
   "metadata": {},
   "outputs": [
    {
     "name": "stdout",
     "output_type": "stream",
     "text": [
      "\n",
      " x = \n",
      " 10.15247165785564\n",
      "\n",
      " r = \n",
      " [ 0.49  0.91  0.03  0.60  0.07  0.44  0.08  0.03  0.24  0.45  0.06  1.14\n",
      "  0.03  0.46  1.89  1.39  0.05  0.67  1.48  0.45  0.30  1.00  1.41  0.75\n",
      "  0.78  2.31  0.92  0.00  1.52  0.38  0.88  0.51  0.15  1.35  0.16  0.45\n",
      "  0.04  1.33  0.70  1.93  1.07  1.67  0.17  0.05  0.35  0.46  0.21  1.87\n",
      "  0.33  0.42  1.33  1.11  0.37  1.77  0.93  0.25  1.19  0.09  0.62  0.50\n",
      "  1.29  0.99  1.02  1.99  0.15  0.18  2.21  2.44  0.05  0.66  0.05  0.37\n",
      "  0.41  0.57  1.42  0.88  0.01  0.91  1.18  0.13  0.33  0.60  0.19  0.97\n",
      "  0.47  0.41  0.66  1.23  0.69  1.09  0.07  1.10  0.35  0.34  0.90  0.33\n",
      "  1.47  0.64  2.40  0.09]\n",
      "\n",
      " w = \n",
      " [ 0.00  0.00  1.00  0.00  1.00  0.00  1.00  1.00  0.00  0.00  1.00  0.00\n",
      "  1.00  0.00  0.00  0.00  1.00  0.00  0.00  0.00  0.00  0.00  0.00  0.00\n",
      "  0.00  0.00  0.00  1.00  0.00  0.00  0.00  0.00  1.00  0.00  1.00  0.00\n",
      "  1.00  0.00  0.00  0.00  0.00  0.00  1.00  1.00  0.00  0.00  0.00  0.00\n",
      "  0.00  0.00  0.00  0.00  0.00  0.00  0.00  0.00  0.00  1.00  0.00  0.00\n",
      "  0.00  0.00  0.00  0.00  1.00  1.00  0.00  0.00  1.00  0.00  1.00  0.00\n",
      "  0.00  0.00  0.00  0.00  1.00  0.00  0.00  1.00  0.00  0.00  1.00  0.00\n",
      "  0.00  0.00  0.00  0.00  0.00  0.00  1.00  0.00  0.00  0.00  0.00  0.00\n",
      "  0.00  0.00  0.00  1.00]\n",
      "38.82687630809867\n"
     ]
    }
   ],
   "source": [
    "print(\"\\n x = \\n {}\".format(x))\n",
    "print(\"\\n r = \\n {}\".format(r))\n",
    "print(\"\\n w = \\n {}\".format(w))\n",
    "print(mu)"
   ]
  },
  {
   "cell_type": "code",
   "execution_count": 7,
   "metadata": {},
   "outputs": [
    {
     "data": {
      "image/png": "[encoded data removed]",
      "text/plain": [
       "<Figure size 432x288 with 1 Axes>"
      ]
     },
     "metadata": {
      "needs_background": "light"
     },
     "output_type": "display_data"
    }
   ],
   "source": [
    "count, bins, ignored = plt.hist(numbers, 100, density=True)\n",
    "plt.plot(bins, 1/(std * np.sqrt(2 * np.pi)) *\n",
    "               np.exp( - (bins - center)**2 / (2 * std**2) ),\n",
    "         linewidth=2, color='r')\n",
    "plt.axvline(x, linewidth=3 ,color='orange')\n",
    "plt.show()"
   ]
  },
  {
   "cell_type": "code",
   "execution_count": 8,
   "metadata": {},
   "outputs": [
    {
     "data": {
      "text/plain": [
       "[<matplotlib.lines.Line2D at 0x1f61e48dcd0>]"
      ]
     },
     "execution_count": 8,
     "metadata": {},
     "output_type": "execute_result"
    },
    {
     "data": {
      "image/png": "[encoded data removed]",
      "text/plain": [
       "<Figure size 432x288 with 1 Axes>"
      ]
     },
     "metadata": {
      "needs_background": "light"
     },
     "output_type": "display_data"
    }
   ],
   "source": [
    "plt.plot(x_iter)"
   ]
  }
 ],
 "metadata": {
  "interpreter": {
   "hash": "5e520d53f3d2b9263b11734e9688a03c9809db32f2004241b6b6e64c140d8e27"
  },
  "kernelspec": {
   "display_name": "Python 3.8.12 ('Robot_env')",
   "language": "python",
   "name": "python3"
  },
  "language_info": {
   "codemirror_mode": {
    "name": "ipython",
    "version": 3
   },
   "file_extension": ".py",
   "mimetype": "text/x-python",
   "name": "python",
   "nbconvert_exporter": "python",
   "pygments_lexer": "ipython3",
   "version": "3.8.12"
  },
  "orig_nbformat": 4
 },
 "nbformat": 4,
 "nbformat_minor": 2
}

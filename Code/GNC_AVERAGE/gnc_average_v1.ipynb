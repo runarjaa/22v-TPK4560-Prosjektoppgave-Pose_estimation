{
 "cells": [
  {
   "cell_type": "code",
   "execution_count": 25,
   "metadata": {},
   "outputs": [],
   "source": [
    "from utils import *\n",
    "\n",
    "import numpy as np\n",
    "import matplotlib.pyplot as plt\n",
    "\n",
    "np.set_printoptions(formatter={'float': '{: 0.2f}'.format})"
   ]
  },
  {
   "cell_type": "code",
   "execution_count": 26,
   "metadata": {},
   "outputs": [],
   "source": [
    "# Input data\n",
    "\n",
    "# Amount of numbers \n",
    "center = 10\n",
    "std = 1\n",
    "n = 10\n",
    "\n",
    "# numbers = np.random.normal(center, std, n)\n",
    "\n",
    "gaussian = np.random.normal(center, std, n)\n",
    "extra_noise = np.random.randint(-100,100,2)\n",
    "# extra_noise = np.array([[100, 105]])\n",
    "numbers = np.concatenate((gaussian, extra_noise))\n",
    "n = numbers.shape[0]"
   ]
  },
  {
   "cell_type": "code",
   "execution_count": 27,
   "metadata": {},
   "outputs": [
    {
     "name": "stdout",
     "output_type": "stream",
     "text": [
      "2.834475154408035e-06\n"
     ]
    }
   ],
   "source": [
    "# GNC initiation\n",
    "# Initial value\n",
    "x0 = 1.0\n",
    "\n",
    "# Loss function initiation\n",
    "r = np.zeros(n)\n",
    "for i in range(n):\n",
    "    r[i] = np.linalg.norm(numbers[i] - x0)\n",
    "r0_max = np.max(r)\n",
    "\n",
    "max_iterations = 1000\n",
    "eps = 0.2\n",
    "mu_update = 1.4\n",
    "w = np.ones(n)\n",
    "mu = eps**2 / (2*r0_max**2 - eps**2)\n",
    "print(mu)"
   ]
  },
  {
   "cell_type": "code",
   "execution_count": 28,
   "metadata": {},
   "outputs": [
    {
     "name": "stdout",
     "output_type": "stream",
     "text": [
      "[ 7.00  8.11  6.45  4.90  7.55  7.91  7.54  6.97  5.17  7.61  68.61  0.61]\n",
      "[ 4.37  5.49  3.82  2.27  4.92  5.28  4.92  4.34  2.55  4.98  71.23  3.23]\n",
      "[ 1.34  2.45  0.78  0.77  1.88  2.24  1.88  1.30  0.49  1.95  74.27  6.27]\n",
      "[ 0.78  1.89  0.22  1.33  1.33  1.69  1.32  0.74  1.05  1.39  74.83  6.83]\n",
      "[ 0.37  1.48  0.19  1.74  0.91  1.27  0.91  0.33  1.46  0.98  75.24  7.24]\n",
      "[ 0.18  1.30  0.37  1.92  0.73  1.09  0.73  0.15  1.64  0.79  75.42  7.42]\n",
      "[ 0.04  1.15  0.51  2.07  0.59  0.95  0.58  0.01  1.79  0.65  75.57  7.57]\n",
      "[ 0.03  1.14  0.53  2.08  0.57  0.93  0.57  0.01  1.80  0.64  75.58  7.58]\n",
      "[ 0.02  1.13  0.54  2.09  0.57  0.93  0.56  0.02  1.81  0.63  75.59  7.59]\n",
      "[ 0.01  1.12  0.55  2.10  0.56  0.92  0.55  0.03  1.82  0.62  75.60  7.60]\n",
      "[ 0.00  1.11  0.55  2.11  0.55  0.91  0.54  0.03  1.83  0.61  75.61  7.61]\n",
      "[ 0.00  1.11  0.55  2.11  0.55  0.91  0.54  0.03  1.83  0.61  75.61  7.61]\n",
      "[ 0.00  1.11  0.55  2.11  0.55  0.91  0.54  0.04  1.83  0.61  75.61  7.61]\n",
      "[ 0.00  1.11  0.55  2.11  0.55  0.91  0.54  0.04  1.83  0.61  75.61  7.61]\n",
      "[ 0.00  1.11  0.55  2.11  0.55  0.91  0.54  0.04  1.83  0.61  75.61  7.61]\n",
      "[ 0.00  1.11  0.56  2.11  0.54  0.91  0.54  0.04  1.83  0.61  75.61  7.61]\n",
      "[ 0.00  1.11  0.56  2.11  0.54  0.90  0.54  0.04  1.83  0.61  75.61  7.61]\n",
      "[ 0.00  1.11  0.56  2.11  0.54  0.90  0.54  0.04  1.83  0.60  75.61  7.61]\n",
      "[ 0.01  1.11  0.56  2.11  0.54  0.90  0.54  0.04  1.83  0.60  75.62  7.62]\n",
      "[ 0.01  1.10  0.56  2.11  0.54  0.90  0.53  0.04  1.83  0.60  75.62  7.62]\n",
      "[ 0.01  1.10  0.56  2.12  0.54  0.90  0.53  0.04  1.84  0.60  75.62  7.62]\n",
      "[ 0.01  1.10  0.56  2.12  0.54  0.90  0.53  0.05  1.84  0.60  75.62  7.62]\n",
      "[ 0.01  1.10  0.57  2.12  0.53  0.89  0.53  0.05  1.84  0.60  75.62  7.62]\n",
      "[ 0.02  1.09  0.57  2.12  0.53  0.89  0.53  0.05  1.84  0.59  75.63  7.63]\n",
      "[ 0.02  1.09  0.57  2.13  0.53  0.89  0.52  0.06  1.85  0.59  75.63  7.63]\n",
      "[ 0.03  1.08  0.58  2.13  0.52  0.88  0.51  0.06  1.86  0.58  75.64  7.64]\n",
      "[ 0.03  1.08  0.59  2.14  0.51  0.87  0.51  0.07  1.86  0.58  75.64  7.64]\n",
      "[ 0.04  1.07  0.59  2.14  0.51  0.87  0.51  0.07  1.86  0.57  75.65  7.65]\n",
      "[ 0.03  1.08  0.59  2.14  0.52  0.88  0.51  0.07  1.86  0.58  75.64  7.64]\n",
      "[ 0.02  1.09  0.57  2.13  0.53  0.89  0.52  0.05  1.85  0.59  75.63  7.63]\n",
      "[ 0.01  1.10  0.56  2.11  0.54  0.90  0.53  0.04  1.84  0.60  75.62  7.62]\n",
      "[ 0.00  1.11  0.55  2.11  0.55  0.91  0.54  0.03  1.83  0.61  75.61  7.61]\n",
      "[ 0.01  1.12  0.55  2.10  0.55  0.92  0.55  0.03  1.82  0.62  75.60  7.60]\n",
      "[ 0.02  1.13  0.54  2.09  0.56  0.92  0.56  0.02  1.81  0.63  75.59  7.59]\n",
      "[ 0.02  1.13  0.54  2.09  0.56  0.93  0.56  0.02  1.81  0.63  75.59  7.59]\n",
      "Ended after 35 iterations\n",
      "\n"
     ]
    }
   ],
   "source": [
    "# GNC iteration\n",
    "last_iter = []\n",
    "x_iter = []\n",
    "iterations = 0\n",
    "for i in range(max_iterations):\n",
    "    iterations += 1\n",
    "    last_iter.append(np.sum(w))\n",
    "    # Weighted average\n",
    "    x = np.dot(numbers,w)/np.sum(w)\n",
    "    x_iter.append(x)\n",
    "\n",
    "    # Loss function\n",
    "    for j in range(n):\n",
    "        r[j] = np.linalg.norm(numbers[j] - x)\n",
    "        w[j] = w_from_r(r[j], eps, mu)\n",
    "    print(r)\n",
    "    mu = mu_update * mu\n",
    "    \n",
    "    if i >= 5:\n",
    "        if np.sum(w) == last_iter[i]:\n",
    "            break\n",
    "\n",
    "print(\"Ended after\", iterations, \"iterations\\n\")"
   ]
  },
  {
   "cell_type": "code",
   "execution_count": 29,
   "metadata": {},
   "outputs": [
    {
     "name": "stdout",
     "output_type": "stream",
     "text": [
      "Inliers:\t 2 \n",
      "Outliers:\t 10 \n",
      "Percentage:\t 83.33333333333334 %\n"
     ]
    }
   ],
   "source": [
    "inliers = []\n",
    "outliers = []\n",
    "\n",
    "for i, n in enumerate(numbers):\n",
    "    if w[i] == 1.0:\n",
    "        inliers.append(n)\n",
    "    else:\n",
    "        outliers.append(n)\n",
    "\n",
    "percentage = (1-len(inliers)/(len(outliers)+len(inliers)))*100\n",
    "\n",
    "print(\"Inliers:\\t\", len(inliers), \"\\nOutliers:\\t\", len(outliers),\\\n",
    "    \"\\nPercentage:\\t\",percentage, \"%\")"
   ]
  },
  {
   "cell_type": "code",
   "execution_count": 30,
   "metadata": {},
   "outputs": [
    {
     "name": "stdout",
     "output_type": "stream",
     "text": [
      "\n",
      " x = \n",
      " 9.408313572203737\n",
      "\n",
      " r = \n",
      " [ 0.02  1.13  0.54  2.09  0.56  0.93  0.56  0.02  1.81  0.63  75.59  7.59]\n",
      "\n",
      " w = \n",
      " [ 1.00  0.00  0.00  0.00  0.00  0.00  0.00  1.00  0.00  0.00  0.00  0.00]\n",
      "0.368938436763033\n"
     ]
    }
   ],
   "source": [
    "print(\"\\n x = \\n {}\".format(x))\n",
    "print(\"\\n r = \\n {}\".format(r))\n",
    "print(\"\\n w = \\n {}\".format(w))\n",
    "print(mu)"
   ]
  },
  {
   "cell_type": "code",
   "execution_count": 31,
   "metadata": {},
   "outputs": [
    {
     "data": {
      "image/png": "[encoded data removed]",
      "text/plain": [
       "<Figure size 432x288 with 1 Axes>"
      ]
     },
     "metadata": {
      "needs_background": "light"
     },
     "output_type": "display_data"
    }
   ],
   "source": [
    "count, bins, ignored = plt.hist(numbers, 100, density=True)\n",
    "plt.plot(bins, 1/(std * np.sqrt(2 * np.pi)) *\n",
    "               np.exp( - (bins - center)**2 / (2 * std**2) ),\n",
    "         linewidth=2, color='r')\n",
    "plt.axvline(x, linewidth=3 ,color='orange')\n",
    "plt.show()"
   ]
  },
  {
   "cell_type": "code",
   "execution_count": 32,
   "metadata": {},
   "outputs": [
    {
     "data": {
      "text/plain": [
       "[<matplotlib.lines.Line2D at 0x1edf250e220>]"
      ]
     },
     "execution_count": 32,
     "metadata": {},
     "output_type": "execute_result"
    },
    {
     "data": {
      "image/png": "[encoded data removed]",
      "text/plain": [
       "<Figure size 432x288 with 1 Axes>"
      ]
     },
     "metadata": {
      "needs_background": "light"
     },
     "output_type": "display_data"
    }
   ],
   "source": [
    "plt.plot(x_iter)"
   ]
  }
 ],
 "metadata": {
  "interpreter": {
   "hash": "5e520d53f3d2b9263b11734e9688a03c9809db32f2004241b6b6e64c140d8e27"
  },
  "kernelspec": {
   "display_name": "Python 3.8.12 ('Robot_env')",
   "language": "python",
   "name": "python3"
  },
  "language_info": {
   "codemirror_mode": {
    "name": "ipython",
    "version": 3
   },
   "file_extension": ".py",
   "mimetype": "text/x-python",
   "name": "python",
   "nbconvert_exporter": "python",
   "pygments_lexer": "ipython3",
   "version": "3.8.12"
  },
  "orig_nbformat": 4
 },
 "nbformat": 4,
 "nbformat_minor": 2
}

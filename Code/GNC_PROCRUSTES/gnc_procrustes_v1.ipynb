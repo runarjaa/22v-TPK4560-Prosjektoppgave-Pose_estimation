{
 "cells": [
  {
   "cell_type": "code",
   "execution_count": 26,
   "metadata": {},
   "outputs": [],
   "source": [
    "from utils import *\n",
    "\n",
    "import numpy as np\n",
    "import open3d as o3d\n",
    "import matplotlib.pyplot as plt\n",
    "\n",
    "np.set_printoptions(formatter={'float': '{: 0.2f}'.format})"
   ]
  },
  {
   "cell_type": "code",
   "execution_count": 27,
   "metadata": {},
   "outputs": [],
   "source": [
    "# Bunny point cloud\n",
    "path_to_bunny = \"D:\\\\Skole\\\\Semester 10\\\\Prosjektoppgave\\\\Data\\\\bunny\\\\reconstruction\\\\bun_zipper.ply\"\n",
    "# path_to_bunny = \"D:\\\\Runar\\\\Documents\\\\1_Studier\\\\Semester_10\\\\Prosjektoppgave\\\\22v-TPK4560-Prosjektoppgave-Pose_estimation\\\\Data\\\\bunny\\\\data\\\\bunny000.ply\"\n",
    "bunny_ply = o3d.io.read_point_cloud(path_to_bunny)\n",
    "bunny = np.asarray(bunny_ply.points)\n",
    "bunny_true = np.copy(bunny)\n",
    "n = bunny.shape[0]"
   ]
  },
  {
   "cell_type": "code",
   "execution_count": 28,
   "metadata": {},
   "outputs": [],
   "source": [
    "# Correct rotation\n",
    "rot = np.array([np.pi/3,\n",
    "              np.pi/3,\n",
    "              np.pi/3\n",
    "            ])\n",
    "# Noise and outliers\n",
    "noise_1 = np.array([np.pi/3 + np.random.normal(0,0.05),\n",
    "                    np.pi/3 + np.random.normal(0,0.05),\n",
    "                    np.pi/3 + np.random.normal(0,0.05)\n",
    "                    ])\n",
    "noise_2 = np.array([np.pi/3 + np.random.normal(0,0.5),\n",
    "                    np.pi/3 + np.random.normal(0,0.5),\n",
    "                    np.pi/3 + np.random.normal(0,0.5)\n",
    "                    ])\n",
    "outlier = np.array([np.pi*np.random.rand(),\n",
    "                    np.pi*np.random.rand(),\n",
    "                    np.pi*np.random.rand()\n",
    "                    ])"
   ]
  },
  {
   "cell_type": "code",
   "execution_count": 29,
   "metadata": {},
   "outputs": [],
   "source": [
    "\n",
    "# Generating translated cloud with inaccuracies\n",
    "for i, p in enumerate(bunny):\n",
    "    if i % 4 == 0:\n",
    "        bunny[i] = p @ expso3(rot)\n",
    "        continue\n",
    "    if i % 4 == 1:\n",
    "        bunny[i] = p @ expso3(noise_1)\n",
    "        noise_1 = np.array([np.pi/3 + np.random.normal(0,0.005),\n",
    "                    np.pi/3 + np.random.normal(0,0.005),\n",
    "                    np.pi/3 + np.random.normal(0,0.005)\n",
    "                    ])\n",
    "        continue\n",
    "    if i % 4 == 2:\n",
    "        bunny[i] = p @ expso3(noise_2)\n",
    "        noise_2 = np.array([np.pi/3 + np.random.normal(0,0.05),\n",
    "                    np.pi/3 + np.random.normal(0,0.05),\n",
    "                    np.pi/3 + np.random.normal(0,0.05)\n",
    "                    ])\n",
    "        continue\n",
    "    if i % 4 == 3:\n",
    "        bunny[i] = p @ expso3(noise_2)\n",
    "        outlier = np.array([np.pi*np.random.rand(),\n",
    "                    np.pi*np.random.rand(),\n",
    "                    np.pi*np.random.rand()\n",
    "                    ])\n",
    "        continue"
   ]
  },
  {
   "cell_type": "code",
   "execution_count": 30,
   "metadata": {},
   "outputs": [],
   "source": [
    "# GNC Initialization\n",
    "# Initial rotation guess\n",
    "R0 = np.identity(3)\n",
    "\n",
    "# Initial loss function data\n",
    "r = np.zeros(n)\n",
    "for i in range(n):\n",
    "    r[i] = np.linalg.norm(bunny_true[i] - R0@bunny[i])\n",
    "r0_max = np.max(r)\n",
    "\n",
    "# gnc\n",
    "eps = 0.011 \n",
    "mu_update_factor = 1.4\n",
    "max_iterations = 1000\n",
    "w = np.ones(n)\n",
    "mu = eps**2 / (2*r0_max**2 - eps**2)"
   ]
  },
  {
   "cell_type": "code",
   "execution_count": 31,
   "metadata": {},
   "outputs": [],
   "source": [
    "last_iter = []\n",
    "R_iter = [np.sum(r)]\n",
    "iterations = 0\n",
    "for i in range(max_iterations):\n",
    "    iterations += 1\n",
    "    last_iter.append(np.sum(w))\n",
    "    # Weighted Procrustes\n",
    "    H = bunny.T @ np.diag(w) @ bunny_true\n",
    "    U, S, Vt = np.linalg.svd(H)\n",
    "    R = Vt.T @ np.diag([1,1,np.linalg.det( Vt.T @ U.T)]) @ U.T\n",
    "\n",
    "    # Loss function\n",
    "    for j in range(n):\n",
    "        r[j] = np.linalg.norm(bunny_true[j] - R0@bunny[j])\n",
    "        w[j] = w_from_r(r[j], eps, mu)\n",
    "\n",
    "    R_iter.append(np.sum(r))\n",
    "\n",
    "    mu = mu_update_factor * mu\n",
    "\n",
    "    if i >= 5:\n",
    "        if np.sum(w) == last_iter[i]:\n",
    "            break"
   ]
  },
  {
   "cell_type": "code",
   "execution_count": 32,
   "metadata": {},
   "outputs": [
    {
     "name": "stdout",
     "output_type": "stream",
     "text": [
      "[[ 1.00  0.00  0.00]\n",
      " [ 0.00  1.00  0.00]\n",
      " [ 0.00  0.00  1.00]]\n",
      "[[ 0.17 -0.15  0.97]\n",
      " [ 0.97  0.17 -0.15]\n",
      " [-0.15  0.97  0.17]]\n"
     ]
    }
   ],
   "source": [
    "print(R)\n",
    "print(expso3(rot))"
   ]
  },
  {
   "cell_type": "code",
   "execution_count": 33,
   "metadata": {},
   "outputs": [
    {
     "name": "stdout",
     "output_type": "stream",
     "text": [
      "Inliers:\t 0 \n",
      "Outliers:\t 35947 \n",
      "Percentage:\t 100.0 %\n"
     ]
    }
   ],
   "source": [
    "inliers = []\n",
    "outliers = []\n",
    "\n",
    "for i, n in enumerate(w):\n",
    "    if w[i] == 1.0:\n",
    "        inliers.append(n)\n",
    "    else:\n",
    "        outliers.append(n)\n",
    "\n",
    "percentage = (1-len(inliers)/(len(outliers)+len(inliers)))*100\n",
    "\n",
    "print(\"Inliers:\\t\", len(inliers), \"\\nOutliers:\\t\", len(outliers),\\\n",
    "    \"\\nPercentage:\\t\",percentage, \"%\")"
   ]
  },
  {
   "cell_type": "code",
   "execution_count": 36,
   "metadata": {},
   "outputs": [
    {
     "data": {
      "text/plain": [
       "[<matplotlib.lines.Line2D at 0x1ff9c0a4940>]"
      ]
     },
     "execution_count": 36,
     "metadata": {},
     "output_type": "execute_result"
    },
    {
     "data": {
      "image/png": "[encoded data removed]",
      "text/plain": [
       "<Figure size 432x288 with 1 Axes>"
      ]
     },
     "metadata": {
      "needs_background": "light"
     },
     "output_type": "display_data"
    }
   ],
   "source": [
    "plt.plot(inliers)"
   ]
  },
  {
   "cell_type": "code",
   "execution_count": 34,
   "metadata": {},
   "outputs": [],
   "source": [
    "pcd = o3d.geometry.PointCloud()\n",
    "pcd.points = o3d.utility.Vector3dVector(bunny)\n",
    "o3d.visualization.draw_geometries([pcd])"
   ]
  },
  {
   "cell_type": "code",
   "execution_count": 35,
   "metadata": {},
   "outputs": [
    {
     "name": "stdout",
     "output_type": "stream",
     "text": [
      "[35947.0, 66.59542180452891, 74.48815517329858, 82.10642617102815, 88.780287134025, 94.19257726390859, 98.60645147176768, 101.02734879871011, 101.25949554263596, 99.47801198212548, 96.59383166043705, 92.64505291942803, 87.42744898042689, 81.84750476957895, 76.18033959550274, 70.18941542568618, 63.32910174365008, 55.87705687131289, 47.92921938695034, 39.65679934082695, 31.084729776777003, 22.560765182301672, 14.410637631215776, 8.336301977621059, 4.673886816729304, 3.1722203557205297, 2.103796947227745, 1.4942902615344011, 1.314666133458256, 1.174017760836212, 1.085043252454696, 0.9513921862124608, 0.7575094899634855, 0.5488523997089736, 0.4006279793450531, 0.3636760569364341, 0.31129939383696126, 0.23750816886375503, 0.13386707593906522, 0.0]\n"
     ]
    }
   ],
   "source": [
    "print(last_iter)"
   ]
  }
 ],
 "metadata": {
  "interpreter": {
   "hash": "a7b2038d95b5311906e160c18cf943288545c27c1ac6c04cf37aa9925e12e8cf"
  },
  "kernelspec": {
   "display_name": "Python 3.8.12 64-bit ('RobotEnv': conda)",
   "name": "python3"
  },
  "language_info": {
   "codemirror_mode": {
    "name": "ipython",
    "version": 3
   },
   "file_extension": ".py",
   "mimetype": "text/x-python",
   "name": "python",
   "nbconvert_exporter": "python",
   "pygments_lexer": "ipython3",
   "version": "3.8.12"
  },
  "orig_nbformat": 4
 },
 "nbformat": 4,
 "nbformat_minor": 2
}

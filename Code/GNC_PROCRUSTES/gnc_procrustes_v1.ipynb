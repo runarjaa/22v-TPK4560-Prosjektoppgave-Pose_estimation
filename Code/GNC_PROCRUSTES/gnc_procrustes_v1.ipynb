{
 "cells": [
  {
   "cell_type": "code",
   "execution_count": 53,
   "metadata": {},
   "outputs": [],
   "source": [
    "from utils import *\n",
    "\n",
    "import numpy as np\n",
    "import open3d as o3d\n",
    "import matplotlib.pyplot as plt\n",
    "\n",
    "np.set_printoptions(formatter={'float': '{: 0.2f}'.format})"
   ]
  },
  {
   "cell_type": "code",
   "execution_count": 54,
   "metadata": {},
   "outputs": [],
   "source": [
    "# Bunny point cloud\n",
    "path_to_bunny = \"D:\\\\Skole\\\\Semester 10\\\\Prosjektoppgave\\\\Data\\\\bunny\\\\reconstruction\\\\bun_zipper.ply\"\n",
    "# path_to_bunny = \"D:\\\\Runar\\\\Documents\\\\1_Studier\\\\Semester_10\\\\Prosjektoppgave\\\\22v-TPK4560-Prosjektoppgave-Pose_estimation\\\\Data\\\\bunny\\\\data\\\\bunny000.ply\"\n",
    "bunny_ply = o3d.io.read_point_cloud(path_to_bunny)\n",
    "bunny = np.asarray(bunny_ply.points)\n",
    "bunny_true = np.copy(bunny)\n",
    "n = bunny.shape[0]"
   ]
  },
  {
   "cell_type": "code",
   "execution_count": 55,
   "metadata": {},
   "outputs": [],
   "source": [
    "# Correct rotation\n",
    "rot = np.array([np.pi/3,\n",
    "              np.pi/3,\n",
    "              np.pi/3\n",
    "            ])\n",
    "# Noise and outliers\n",
    "noise_1 = np.array([np.pi/3 + np.random.normal(0,0.05),\n",
    "                    np.pi/3 + np.random.normal(0,0.05),\n",
    "                    np.pi/3 + np.random.normal(0,0.05)\n",
    "                    ])\n",
    "noise_2 = np.array([np.pi/3 + np.random.normal(0,0.5),\n",
    "                    np.pi/3 + np.random.normal(0,0.5),\n",
    "                    np.pi/3 + np.random.normal(0,0.5)\n",
    "                    ])\n",
    "outlier = np.array([np.pi*np.random.rand(),\n",
    "                    np.pi*np.random.rand(),\n",
    "                    np.pi*np.random.rand()\n",
    "                    ])\n",
    "      "
   ]
  },
  {
   "cell_type": "code",
   "execution_count": 56,
   "metadata": {},
   "outputs": [],
   "source": [
    "# Generating translated cloud with inaccuracies\n",
    "for i, p in enumerate(bunny):\n",
    "    if i % 4 == 0:\n",
    "        bunny[i] = expso3(rot) @ p\n",
    "        continue\n",
    "    if i % 4 == 1:\n",
    "        bunny[i] = expso3(noise_1) @ p\n",
    "        noise_1 = np.array([np.pi/3 + np.random.normal(0,0.005),\n",
    "                    np.pi/3 + np.random.normal(0,0.005),\n",
    "                    np.pi/3 + np.random.normal(0,0.005)\n",
    "                    ])\n",
    "        continue\n",
    "    if i % 4 == 2:\n",
    "        bunny[i] = expso3(noise_2) @ p\n",
    "        noise_2 = np.array([np.pi/3 + np.random.normal(0,0.05),\n",
    "                    np.pi/3 + np.random.normal(0,0.05),\n",
    "                    np.pi/3 + np.random.normal(0,0.05)\n",
    "                    ])\n",
    "        continue\n",
    "    if i % 4 == 3:\n",
    "        bunny[i] = expso3(outlier) @ p\n",
    "        outlier = np.array([np.pi*np.random.rand(),\n",
    "                    np.pi*np.random.rand(),\n",
    "                    np.pi*np.random.rand()\n",
    "                    ])\n",
    "        continue"
   ]
  },
  {
   "cell_type": "code",
   "execution_count": 57,
   "metadata": {},
   "outputs": [],
   "source": [
    "# GNC Initialization\n",
    "# Initial rotation guess\n",
    "R0 = np.identity(3)\n",
    "\n",
    "# Initial loss function data\n",
    "r = np.zeros(n)\n",
    "for i in range(n):\n",
    "    r[i] = np.linalg.norm(bunny_true[i] - R0 @ bunny[i])\n",
    "r0_max = np.max(r)\n",
    "\n",
    "# gnc\n",
    "eps = 0.011 \n",
    "mu_update_factor = 1.4\n",
    "max_iterations = 1000\n",
    "w = np.ones(n)\n",
    "mu = eps**2 / (2*r0_max**2 - eps**2)"
   ]
  },
  {
   "cell_type": "code",
   "execution_count": 58,
   "metadata": {},
   "outputs": [],
   "source": [
    "last_iter = []\n",
    "R_iter = [np.sum(r)]\n",
    "iterations = 0\n",
    "for i in range(max_iterations):\n",
    "    iterations += 1\n",
    "    last_iter.append(np.sum(w))\n",
    "    # Weighted Procrustes\n",
    "    H = bunny.T @ np.diag(w) @ bunny_true\n",
    "    U, S, Vt = np.linalg.svd(H)\n",
    "    R = Vt.T @ np.diag([1,1,np.linalg.det( Vt.T @ U.T)]) @ U.T\n",
    "\n",
    "    # Loss function\n",
    "    for j in range(n):\n",
    "        r[j] = np.linalg.norm(bunny_true[j] - R @ bunny[j])\n",
    "        w[j] = w_from_r(r[j], eps, mu)\n",
    "\n",
    "    R_iter.append(np.sum(r))\n",
    "\n",
    "    mu = mu_update_factor * mu\n",
    "\n",
    "    if i >= 5:\n",
    "        if np.sum(w) == last_iter[i]:\n",
    "            break"
   ]
  },
  {
   "cell_type": "code",
   "execution_count": 59,
   "metadata": {},
   "outputs": [
    {
     "name": "stdout",
     "output_type": "stream",
     "text": [
      "[[ 0.17  0.97 -0.15]\n",
      " [-0.15  0.17  0.97]\n",
      " [ 0.97 -0.15  0.17]]\n",
      "[[ 0.17 -0.15  0.97]\n",
      " [ 0.97  0.17 -0.15]\n",
      " [-0.15  0.97  0.17]]\n"
     ]
    }
   ],
   "source": [
    "print(R)\n",
    "print(expso3(rot))"
   ]
  },
  {
   "cell_type": "code",
   "execution_count": 60,
   "metadata": {},
   "outputs": [
    {
     "name": "stdout",
     "output_type": "stream",
     "text": [
      "Inliers:\t 25721 \n",
      "Outliers:\t 10226 \n",
      "Percentage:\t 28.44743650374162 %\n"
     ]
    }
   ],
   "source": [
    "inliers = []\n",
    "outliers = []\n",
    "\n",
    "for i, n in enumerate(w):\n",
    "    if w[i] == 1.0:\n",
    "        inliers.append(n)\n",
    "    else:\n",
    "        outliers.append(n)\n",
    "\n",
    "percentage = (1-len(inliers)/(len(outliers)+len(inliers)))*100\n",
    "\n",
    "print(\"Inliers:\\t\", len(inliers), \"\\nOutliers:\\t\", len(outliers),\\\n",
    "    \"\\nPercentage:\\t\",percentage, \"%\")"
   ]
  },
  {
   "cell_type": "code",
   "execution_count": 61,
   "metadata": {},
   "outputs": [],
   "source": [
    "pcd = o3d.geometry.PointCloud()\n",
    "pcd.points = o3d.utility.Vector3dVector(bunny)\n",
    "o3d.visualization.draw_geometries([pcd], width=1600, height=900)"
   ]
  },
  {
   "cell_type": "code",
   "execution_count": 62,
   "metadata": {},
   "outputs": [
    {
     "name": "stdout",
     "output_type": "stream",
     "text": [
      "[35947.0, 569.77523455695, 3246.114358628335, 11229.709697020113, 15829.051074903296, 16600.471406777975, 17309.83604212679, 17993.095329236592, 18637.39479509606, 19235.92696325349, 19788.835396001406, 20308.639484090138, 20799.56428122825, 21274.172277457757, 21745.309551139057, 22220.756385222212, 22702.97192562146, 23180.980081035737, 23640.792773416204, 24068.376611995103, 24458.038388939465, 24792.916379000577, 25064.791448787433, 25278.768691038284, 25433.003936323712, 25543.862878372165, 25617.253653637315, 25662.40165487585, 25688.239633687896, 25704.648920760555, 25713.56354048398, 25717.3303618211, 25719.572936926597, 25720.510053322585, 25720.471951828204, 25719.894669219007, 25720.426723145814, 25719.99298363397, 25719.8423021156, 25720.032854128858, 25720.22123277743, 25720.301877667036, 25720.71548474326, 25721.065209097425, 25721.2240737084, 25721.224594556195, 25721.115506826085, 25721.0]\n"
     ]
    }
   ],
   "source": [
    "print(last_iter)"
   ]
  }
 ],
 "metadata": {
  "interpreter": {
   "hash": "a7b2038d95b5311906e160c18cf943288545c27c1ac6c04cf37aa9925e12e8cf"
  },
  "kernelspec": {
   "display_name": "Python 3.8.12 64-bit ('RobotEnv': conda)",
   "name": "python3"
  },
  "language_info": {
   "codemirror_mode": {
    "name": "ipython",
    "version": 3
   },
   "file_extension": ".py",
   "mimetype": "text/x-python",
   "name": "python",
   "nbconvert_exporter": "python",
   "pygments_lexer": "ipython3",
   "version": "3.8.12"
  },
  "orig_nbformat": 4
 },
 "nbformat": 4,
 "nbformat_minor": 2
}

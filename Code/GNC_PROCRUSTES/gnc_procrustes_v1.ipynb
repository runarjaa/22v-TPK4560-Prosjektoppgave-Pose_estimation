{
 "cells": [
  {
   "cell_type": "code",
   "execution_count": 25,
   "metadata": {},
   "outputs": [],
   "source": [
    "from utils import *\n",
    "\n",
    "import numpy as np\n",
    "import open3d as o3d\n",
    "import matplotlib.pyplot as plt\n",
    "\n",
    "np.set_printoptions(formatter={'float': '{: 0.2f}'.format})"
   ]
  },
  {
   "cell_type": "code",
   "execution_count": 26,
   "metadata": {},
   "outputs": [],
   "source": [
    "# Bunny point cloud\n",
    "# path_to_bunny = \"D:\\\\Skole\\\\Semester 10\\\\Prosjektoppgave\\\\Data\\\\bunny\\\\reconstruction\\\\bun_zipper.ply\"\n",
    "path_to_bunny = \"D:\\\\Runar\\Documents\\\\1_Studier\\\\Semester_10\\\\Prosjektoppgave\\\\22v-TPK4560-Prosjektoppgave-Pose_estimation\\\\Data\\\\bunny\" +\\\n",
    "    \"\\\\reconstruction\\\\bun_zipper_res3.ply\"\n",
    "    # \"\\\\data\\\\bun000.ply\"\n",
    "bunny_ply = o3d.io.read_point_cloud(path_to_bunny)\n",
    "bunny = np.asarray(bunny_ply.points)\n",
    "bunny_true = np.copy(bunny)\n",
    "n = bunny.shape[0]"
   ]
  },
  {
   "cell_type": "code",
   "execution_count": 27,
   "metadata": {},
   "outputs": [],
   "source": [
    "# Correct rotation\n",
    "rot = np.array([np.pi/3,\n",
    "              np.pi/3,\n",
    "              np.pi/3\n",
    "            ])\n",
    "# Noise and outliers\n",
    "# noise_1 = np.array([np.pi/3 + np.random.normal(0,0.05),\n",
    "#                     np.pi/3 + np.random.normal(0,0.05),\n",
    "#                     np.pi/3 + np.random.normal(0,0.05)\n",
    "#                     ])\n",
    "outlier = np.array([np.pi * np.random.uniform(-1,1),\n",
    "                    np.pi * np.random.uniform(-1,1),\n",
    "                    np.pi * np.random.uniform(-1,1)\n",
    "                    ])\n",
    "      "
   ]
  },
  {
   "cell_type": "code",
   "execution_count": 28,
   "metadata": {},
   "outputs": [],
   "source": [
    "bunny = bunny @ expso3(rot)"
   ]
  },
  {
   "cell_type": "code",
   "execution_count": 29,
   "metadata": {},
   "outputs": [],
   "source": [
    "# Generating translated cloud with inaccuracies\n",
    "for i, p in enumerate(bunny):\n",
    "    if i % 5 != 0:\n",
    "        bunny[i] = expso3(outlier) @ p \n",
    "        # + np.random.uniform(-.1,.2, 3)\n",
    "        outlier = np.array([np.pi*np.random.uniform(-1,1),\n",
    "                    np.pi*np.random.uniform(-1,1),\n",
    "                    np.pi*np.random.uniform(-1,1)\n",
    "                    ])\n",
    "        continue"
   ]
  },
  {
   "cell_type": "code",
   "execution_count": 30,
   "metadata": {},
   "outputs": [],
   "source": [
    "# GNC Initialization\n",
    "# Initial rotation guess\n",
    "R0 = np.identity(3)\n",
    "\n",
    "# Initial loss function data\n",
    "r = np.zeros(n)\n",
    "rtest = np.zeros(n)\n",
    "for i in range(n):\n",
    "    r[i] = np.linalg.norm(bunny_true[i] - R0 @ bunny[i])\n",
    "    rtest[i] = np.linalg.norm(expso3(rot) @ bunny_true[i] - R0 @ bunny_true[i])\n",
    "r0_max = np.max(r)\n",
    "\n",
    "# gnc\n",
    "eps = 0.011 \n",
    "mu_update_factor = 1.4\n",
    "max_iterations = 1000\n",
    "w = np.ones(n)\n",
    "mu = eps**2 / (2*r0_max**2 - eps**2)"
   ]
  },
  {
   "cell_type": "code",
   "execution_count": 31,
   "metadata": {},
   "outputs": [],
   "source": [
    "last_iter = []\n",
    "R_iter = [np.sum(rtest)]\n",
    "iterations = 0\n",
    "for i in range(max_iterations):\n",
    "    iterations += 1\n",
    "    last_iter.append(np.sum(w))\n",
    "    # Weighted Procrustes\n",
    "    H = bunny.T @ np.diag(w) @ bunny_true\n",
    "    U, S, Vt = np.linalg.svd(H)\n",
    "    R = Vt.T @ np.diag([1,1,np.linalg.det( Vt.T @ U.T)]) @ U.T\n",
    "\n",
    "    # Loss function\n",
    "    for j in range(n):\n",
    "        r[j] = np.linalg.norm(bunny_true[j] - R @ bunny[j])\n",
    "        w[j] = w_from_r(r[j], eps, mu)\n",
    "        rtest[j] = np.linalg.norm(expso3(rot) @ bunny_true[j] - R @ bunny_true[j])\n",
    "\n",
    "\n",
    "    R_iter.append(np.sum(rtest))\n",
    "\n",
    "    mu = mu_update_factor * mu\n",
    "\n",
    "    if i >= 5:\n",
    "        if np.sum(w) == last_iter[i]:\n",
    "            break"
   ]
  },
  {
   "cell_type": "code",
   "execution_count": 32,
   "metadata": {},
   "outputs": [
    {
     "name": "stdout",
     "output_type": "stream",
     "text": [
      "[[ 0.17 -0.15  0.97]\n",
      " [ 0.97  0.17 -0.15]\n",
      " [-0.15  0.97  0.17]]\n",
      "\n",
      "[[ 0.17 -0.15  0.97]\n",
      " [ 0.97  0.17 -0.15]\n",
      " [-0.15  0.97  0.17]]\n",
      "\n",
      "[[ 0.00 -0.00 -0.00]\n",
      " [ 0.00 -0.00 -0.00]\n",
      " [ 0.00 -0.00  0.00]]\n"
     ]
    }
   ],
   "source": [
    "print(R)\n",
    "print()\n",
    "print(expso3(rot))\n",
    "print()\n",
    "print(expso3(rot) - R)"
   ]
  },
  {
   "cell_type": "code",
   "execution_count": 33,
   "metadata": {},
   "outputs": [
    {
     "name": "stdout",
     "output_type": "stream",
     "text": [
      "Inliers:\t 383 \n",
      "Outliers:\t 1506 \n",
      "Percentage:\t 79.72472207517205 %\n",
      "\n",
      "Iterations:\t 33\n"
     ]
    }
   ],
   "source": [
    "inliers = []\n",
    "outliers = []\n",
    "\n",
    "for i, n in enumerate(w):\n",
    "    if w[i] == 1.0:\n",
    "        inliers.append(n)\n",
    "    else:\n",
    "        outliers.append(n)\n",
    "\n",
    "percentage = (1-len(inliers)/(len(outliers)+len(inliers)))*100\n",
    "\n",
    "print(\"Inliers:\\t\", len(inliers), \"\\nOutliers:\\t\", len(outliers),\\\n",
    "    \"\\nPercentage:\\t\",percentage, \"%\\n\\nIterations:\\t\", iterations)"
   ]
  },
  {
   "cell_type": "code",
   "execution_count": 34,
   "metadata": {},
   "outputs": [],
   "source": [
    "geometry_list = []"
   ]
  },
  {
   "cell_type": "code",
   "execution_count": 35,
   "metadata": {},
   "outputs": [],
   "source": [
    "pcd = o3d.geometry.PointCloud()\n",
    "pcd.points = o3d.utility.Vector3dVector(bunny)\n",
    "# o3d.visualization.draw_geometries([pcd], width=1600, height=900)\n",
    "# geometry_list.append(pcd)"
   ]
  },
  {
   "cell_type": "code",
   "execution_count": 36,
   "metadata": {},
   "outputs": [],
   "source": [
    "color1 = np.array(([1.0, 0.0, 0.0]))\n",
    "color2 = np.array(([0.0, 1.0, 0.0]))\n",
    "color3 = np.array(([0.0, 0.0, 1.0]))\n",
    "pcdtest1 = o3d.geometry.PointCloud()\n",
    "pcdtest2 = o3d.geometry.PointCloud()\n",
    "pcdtest3 = o3d.geometry.PointCloud()"
   ]
  },
  {
   "cell_type": "code",
   "execution_count": 37,
   "metadata": {},
   "outputs": [],
   "source": [
    "bunnytest = bunny_true.copy()\n",
    "test1 = bunnytest @ expso3(rot)\n",
    "pcdtest1.points = o3d.utility.Vector3dVector(test1)\n",
    "test2 = bunnytest @ R + np.ones((bunnytest.shape[0],3))*0.001\n",
    "pcdtest2.points = o3d.utility.Vector3dVector(test2)\n",
    "test3 = np.zeros((bunnytest.shape[0],3))\n",
    "for i, x in enumerate(bunnytest):\n",
    "    test3[i,:] = w[i] * x\n",
    "pcdtest3.points = o3d.utility.Vector3dVector(test3)\n",
    "# testfinal = np.concatenate((bunnytest, test1, test2, test3), axis=0)"
   ]
  },
  {
   "cell_type": "code",
   "execution_count": 38,
   "metadata": {},
   "outputs": [],
   "source": [
    "pcdtest1.paint_uniform_color(color1)\n",
    "pcdtest2.paint_uniform_color(color2)\n",
    "pcdtest3.paint_uniform_color(color3)\n",
    "\n",
    "geometry_list.append(pcdtest1)\n",
    "geometry_list.append(pcdtest2)\n",
    "geometry_list.append(pcdtest3)"
   ]
  },
  {
   "cell_type": "code",
   "execution_count": 39,
   "metadata": {},
   "outputs": [],
   "source": [
    "# pcd1 = o3d.geometry.PointCloud()\n",
    "# pcd1.points = o3d.utility.Vector3dVector(testfinal)\n",
    "mesh_frame = o3d.geometry.TriangleMesh.create_coordinate_frame(\n",
    "    size=0.1, origin=[0, 0, 0])\n",
    "geometry_list.append(mesh_frame)\n",
    "o3d.visualization.draw_geometries(geometry_list, width=1600, height=900)"
   ]
  },
  {
   "cell_type": "code",
   "execution_count": 40,
   "metadata": {},
   "outputs": [
    {
     "name": "stdout",
     "output_type": "stream",
     "text": [
      "[1889.0, 6.497721917703617, 16.52427927904113, 78.83019570191124, 381.6495955972682, 381.9684745157424, 382.24448969445336, 382.47124030977534, 382.6410533372545, 382.75708772843245, 382.81817029136846, 382.8261145994473, 382.7837831821054, 382.7174929828551, 382.6874285521641, 382.7218065947562, 382.762973801862, 382.7891203020668, 382.80618461674743, 382.87262037198997, 383.01283623891857, 383.20910624467297, 383.0544569495343, 382.958522951075, 382.8656438664168, 382.841711763111, 382.9319591031475, 383.03362967402586, 383.14501431778035, 383.2388430110384, 383.15016646394633, 383.0256483894748, 383.0]\n"
     ]
    }
   ],
   "source": [
    "print(last_iter)"
   ]
  },
  {
   "cell_type": "code",
   "execution_count": 41,
   "metadata": {},
   "outputs": [
    {
     "name": "stdout",
     "output_type": "stream",
     "text": [
      "280.49858174111057\n",
      "117.62845923658374\n",
      "44.002237043771615\n",
      "8.51948733619449\n",
      "0.8050459571973033\n",
      "0.09927975201481033\n",
      "0.10069906925129676\n",
      "0.10427829872798916\n",
      "0.09996644231255847\n",
      "0.08954188453365136\n",
      "0.07406533124345877\n",
      "0.0524403301416323\n",
      "0.036708095406764604\n",
      "0.022734443401460948\n",
      "0.015197355861211575\n",
      "0.014589464099039391\n",
      "0.01654072158189056\n",
      "0.018094886087449354\n",
      "0.024328327114213514\n",
      "0.031700776039771346\n",
      "0.03116868377351018\n",
      "0.0446502341931868\n",
      "0.058067700488354884\n",
      "0.05763332648414762\n",
      "0.06342236512668224\n",
      "0.06856985879280329\n",
      "0.07876799543178761\n",
      "0.09265845360009857\n",
      "0.1125144056131329\n",
      "0.14171413312428435\n",
      "0.17397431117941353\n",
      "0.1868137184678246\n",
      "0.20491869250366915\n",
      "0.20865771957574536\n"
     ]
    }
   ],
   "source": [
    "for i, n in enumerate(R_iter):\n",
    "    print(n)"
   ]
  }
 ],
 "metadata": {
  "interpreter": {
   "hash": "a7b2038d95b5311906e160c18cf943288545c27c1ac6c04cf37aa9925e12e8cf"
  },
  "kernelspec": {
   "display_name": "Python 3.8.12 64-bit ('RobotEnv': conda)",
   "name": "python3"
  },
  "language_info": {
   "codemirror_mode": {
    "name": "ipython",
    "version": 3
   },
   "file_extension": ".py",
   "mimetype": "text/x-python",
   "name": "python",
   "nbconvert_exporter": "python",
   "pygments_lexer": "ipython3",
   "version": "3.8.12"
  },
  "orig_nbformat": 4
 },
 "nbformat": 4,
 "nbformat_minor": 2
}

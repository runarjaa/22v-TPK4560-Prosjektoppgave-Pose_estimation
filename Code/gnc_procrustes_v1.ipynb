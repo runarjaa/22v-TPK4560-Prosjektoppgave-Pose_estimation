{
 "cells": [
  {
   "cell_type": "code",
   "execution_count": 1,
   "metadata": {},
   "outputs": [
    {
     "name": "stdout",
     "output_type": "stream",
     "text": [
      "Jupyter environment detected. Enabling Open3D WebVisualizer.\n",
      "[Open3D INFO] WebRTC GUI backend enabled.\n",
      "[Open3D INFO] WebRTCWindowSystem: HTTP handshake server disabled.\n"
     ]
    }
   ],
   "source": [
    "from utils import *\n",
    "\n",
    "import numpy as np\n",
    "import open3d as o3d\n",
    "import matplotlib.pyplot as plt\n",
    "\n",
    "np.set_printoptions(formatter={'float': '{: 0.2f}'.format})"
   ]
  },
  {
   "cell_type": "code",
   "execution_count": 2,
   "metadata": {},
   "outputs": [],
   "source": [
    "# Bunny point cloud\n",
    "path_to_bunny = \"D:\\\\Skole\\\\Semester 10\\\\Prosjektoppgave\\\\Data\\\\bunny\\\\data\\\\bun000.ply\"\n",
    "bunny_ply = o3d.io.read_point_cloud(path_to_bunny)\n",
    "bunny = np.asarray(bunny_ply.points)\n",
    "bunny_true = np.copy(bunny)\n",
    "n = bunny.shape[0]"
   ]
  },
  {
   "cell_type": "code",
   "execution_count": 3,
   "metadata": {},
   "outputs": [],
   "source": [
    "# Correct rotation\n",
    "rot = np.array([np.pi/3,\n",
    "              np.pi/3,\n",
    "              np.pi/3\n",
    "            ])\n",
    "# Noise and outliers\n",
    "noise_1 = np.array([np.pi/3 + np.random.normal(0,0.05),\n",
    "                    np.pi/3 + np.random.normal(0,0.05),\n",
    "                    np.pi/3 + np.random.normal(0,0.05)\n",
    "                    ])\n",
    "noise_2 = np.array([np.pi/3 + np.random.normal(0,0.5),\n",
    "                    np.pi/3 + np.random.normal(0,0.5),\n",
    "                    np.pi/3 + np.random.normal(0,0.5)\n",
    "                    ])\n",
    "outlier = np.array([np.pi*np.random.rand(),\n",
    "                    np.pi*np.random.rand(),\n",
    "                    np.pi*np.random.rand()\n",
    "                    ])"
   ]
  },
  {
   "cell_type": "code",
   "execution_count": 4,
   "metadata": {},
   "outputs": [],
   "source": [
    "\n",
    "# Generating translated cloud with inaccuracies\n",
    "for i, p in enumerate(bunny):\n",
    "    if i % 4 == 0:\n",
    "        bunny[i] = p @ expso3(rot)\n",
    "        continue\n",
    "    if i % 4 == 1:\n",
    "        bunny[i] = p @ expso3(noise_1)\n",
    "        noise_1 = np.array([np.pi/3 + np.random.normal(0,0.005),\n",
    "                    np.pi/3 + np.random.normal(0,0.005),\n",
    "                    np.pi/3 + np.random.normal(0,0.005)\n",
    "                    ])\n",
    "        continue\n",
    "    if i % 4 == 2:\n",
    "        bunny[i] = p @ expso3(noise_2)\n",
    "        noise_2 = np.array([np.pi/3 + np.random.normal(0,0.05),\n",
    "                    np.pi/3 + np.random.normal(0,0.05),\n",
    "                    np.pi/3 + np.random.normal(0,0.05)\n",
    "                    ])\n",
    "        continue\n",
    "    if i % 4 == 3:\n",
    "        bunny[i] = p @ expso3(noise_2)\n",
    "        outlier = np.array([np.pi*np.random.rand(),\n",
    "                    np.pi*np.random.rand(),\n",
    "                    np.pi*np.random.rand()\n",
    "                    ])\n",
    "        continue"
   ]
  },
  {
   "cell_type": "code",
   "execution_count": 5,
   "metadata": {},
   "outputs": [],
   "source": [
    "# GNC Initialization\n",
    "# Initial rotation guess\n",
    "R0 = np.identity(3)\n",
    "\n",
    "# Initial loss function data\n",
    "r = np.zeros(n)\n",
    "for i in range(n):\n",
    "    r[i] = np.linalg.norm(bunny_true[i] - R0@bunny[i])\n",
    "r0_max = np.max(r)\n",
    "\n",
    "# gnc\n",
    "eps = 0.011 \n",
    "mu_update_factor = 1.4\n",
    "max_iterations = 1000\n",
    "w = np.ones(n)\n",
    "mu = eps**2 / (2*r0_max**2 - eps**2)"
   ]
  },
  {
   "cell_type": "code",
   "execution_count": 6,
   "metadata": {},
   "outputs": [],
   "source": [
    "last_iter = []\n",
    "R_iter = [np.sum(r)]\n",
    "iterations = 0\n",
    "for i in range(max_iterations):\n",
    "    iterations += 1\n",
    "    last_iter.append(np.sum(w))\n",
    "    # Weighted Procrustes\n",
    "    H = bunny.T @ np.diag(w) @ bunny_true\n",
    "    U, S, Vt = np.linalg.svd(H)\n",
    "    R = Vt.T @ np.diag([1,1,np.linalg.det( Vt.T @ U.T)]) @ U.T\n",
    "\n",
    "    # Loss function\n",
    "    for j in range(n):\n",
    "        r[j] = np.linalg.norm(bunny_true[j] - R0@bunny[j])\n",
    "        w[j] = w_from_r(r[j], eps, mu)\n",
    "\n",
    "    R_iter.append(np.sum(r))\n",
    "\n",
    "    mu = mu_update_factor * mu\n",
    "\n",
    "    if i >= 5:\n",
    "        if np.sum(w) == last_iter[i]:\n",
    "            break"
   ]
  },
  {
   "cell_type": "code",
   "execution_count": 7,
   "metadata": {},
   "outputs": [
    {
     "name": "stdout",
     "output_type": "stream",
     "text": [
      "[[ 0.86 -0.32  0.39]\n",
      " [ 0.42  0.89 -0.20]\n",
      " [-0.29  0.33  0.90]]\n",
      "[[ 0.17 -0.15  0.97]\n",
      " [ 0.97  0.17 -0.15]\n",
      " [-0.15  0.97  0.17]]\n"
     ]
    }
   ],
   "source": [
    "print(R)\n",
    "print(expso3(rot))"
   ]
  },
  {
   "cell_type": "code",
   "execution_count": 8,
   "metadata": {},
   "outputs": [
    {
     "name": "stdout",
     "output_type": "stream",
     "text": [
      "Inliers:\t 7 \n",
      "Outliers:\t 40249 \n",
      "Percentage:\t 99.98261128775835 %\n"
     ]
    }
   ],
   "source": [
    "inliers = []\n",
    "outliers = []\n",
    "\n",
    "for i, n in enumerate(w):\n",
    "    if w[i] == 1.0:\n",
    "        inliers.append(n)\n",
    "    else:\n",
    "        outliers.append(n)\n",
    "\n",
    "percentage = (1-len(inliers)/(len(outliers)+len(inliers)))*100\n",
    "\n",
    "print(\"Inliers:\\t\", len(inliers), \"\\nOutliers:\\t\", len(outliers),\\\n",
    "    \"\\nPercentage:\\t\",percentage, \"%\")"
   ]
  },
  {
   "cell_type": "code",
   "execution_count": 9,
   "metadata": {},
   "outputs": [],
   "source": [
    "pcd = o3d.geometry.PointCloud()\n",
    "pcd.points = o3d.utility.Vector3dVector(bunny)\n",
    "o3d.visualization.draw_geometries([pcd])"
   ]
  },
  {
   "cell_type": "code",
   "execution_count": 10,
   "metadata": {},
   "outputs": [
    {
     "name": "stdout",
     "output_type": "stream",
     "text": [
      "[40256.0, 85.12652629857374, 95.84132139374627, 106.57020336803068, 116.5893891477616, 125.20254772850652, 132.91013513536598, 138.62800166901525, 141.8257601080672, 142.60374917101947, 142.31335583742987, 141.26889107719046, 138.77071582030695, 134.10578174484255, 126.98170650942029, 117.58929559392283, 106.31565835835673, 93.35201164269637, 79.42930883996013, 65.38039556985446, 51.28840216621143, 37.759224162237274, 25.575523224316502, 15.914755145585236, 10.368165937317158, 8.055788091157986, 7.086971141251437, 6.693439938758633, 6.314142563425876, 6.163674854316109, 6.381757739808959, 6.425172212254445, 6.413984863160685, 6.393331612737569, 6.505217779550733, 6.709146715727911, 6.870935695150806, 7.0]\n"
     ]
    }
   ],
   "source": [
    "print(last_iter)"
   ]
  }
 ],
 "metadata": {
  "interpreter": {
   "hash": "5e520d53f3d2b9263b11734e9688a03c9809db32f2004241b6b6e64c140d8e27"
  },
  "kernelspec": {
   "display_name": "Python 3.8.12 ('Robot_env')",
   "language": "python",
   "name": "python3"
  },
  "language_info": {
   "codemirror_mode": {
    "name": "ipython",
    "version": 3
   },
   "file_extension": ".py",
   "mimetype": "text/x-python",
   "name": "python",
   "nbconvert_exporter": "python",
   "pygments_lexer": "ipython3",
   "version": "3.8.12"
  },
  "orig_nbformat": 4
 },
 "nbformat": 4,
 "nbformat_minor": 2
}

{
 "cells": [
  {
   "cell_type": "code",
   "execution_count": 1,
   "metadata": {},
   "outputs": [],
   "source": [
    "import numpy as np\n",
    "import matplotlib.pyplot as plt\n",
    "import math\n",
    "import cv2 as cv\n",
    "import scipy.io as sio\n",
    "import random\n",
    "from datetime import datetime\n",
    "random.seed(datetime.now())\n",
    "np.set_printoptions(formatter={'float': '{: 0.2f}'.format})"
   ]
  },
  {
   "cell_type": "markdown",
   "metadata": {},
   "source": [
    "# Own data"
   ]
  },
  {
   "cell_type": "code",
   "execution_count": 2,
   "metadata": {},
   "outputs": [
    {
     "data": {
      "text/plain": [
       "(4, 4)"
      ]
     },
     "execution_count": 2,
     "metadata": {},
     "output_type": "execute_result"
    }
   ],
   "source": [
    "# Random data\n",
    "focal = 1500\n",
    "u_0 = 640\n",
    "v_0 = 512\n",
    "\n",
    "# # Transformation Matrix\n",
    "transf_c_w = np.array([\n",
    "    [1, 0, 0, -0.5],\n",
    "    [0, 1, 0, -0.5],\n",
    "    [0, 0, 1, 3.0],\n",
    "    [0, 0, 0, 1  ]\n",
    "])\n",
    "\n",
    "# # Parameter matrix\n",
    "camera_para =  np.array([\n",
    "    [focal,     0, u_0],\n",
    "    [    0, focal, v_0],\n",
    "    [    0,     0,   1]\n",
    "])\n",
    "\n",
    "pi_mat = np.eye(3,4)\n",
    "transf_c_w.shape"
   ]
  },
  {
   "cell_type": "code",
   "execution_count": 3,
   "metadata": {},
   "outputs": [],
   "source": [
    "# Define Control Points in World coor coor - control world\n",
    "ch_w = np.array([\n",
    "    [1, 0, 0, 1], \n",
    "    [0, 1, 0, 1], \n",
    "    [0, 0, 1, 1],\n",
    "    [0, 0, 0, 1]\n",
    "], dtype=float).T\n",
    "\n",
    "c_w = pi_mat @ ch_w"
   ]
  },
  {
   "cell_type": "code",
   "execution_count": 4,
   "metadata": {},
   "outputs": [],
   "source": [
    "def Rx(theta):\n",
    "    return np.array([[ 1, 0           , 0           ],\n",
    "                     [ 0, math.cos(theta),-math.sin(theta)],\n",
    "                     [ 0, math.sin(theta), math.cos(theta)]])\n",
    "  \n",
    "def Ry(theta):\n",
    "    return np.array([[ math.cos(theta), 0, math.sin(theta)],\n",
    "                     [ 0           , 1, 0           ],\n",
    "                     [-math.sin(theta), 0, math.cos(theta)]])\n",
    "  \n",
    "def Rz(theta):\n",
    "    return np.array([[ math.cos(theta), -math.sin(theta), 0 ],\n",
    "                     [ math.sin(theta), math.cos(theta) , 0 ],\n",
    "                     [ 0           , 0            , 1 ]])\n",
    "\n",
    "def Tr(Angles, T):\n",
    "    Rot_mat = Rz(Angles[2]) @ Ry(Angles[1]) @ Rx(Angles[0])\n",
    "    Tr = np.concatenate((Rot_mat.reshape((3, 3)), T.reshape((3, 1))), axis=1)\n",
    "    return np.concatenate((Tr, np.array([[0,0,0,1]])), axis=0)"
   ]
  },
  {
   "cell_type": "code",
   "execution_count": 5,
   "metadata": {},
   "outputs": [],
   "source": [
    "num_points = 60\n",
    "rand_points = np.empty((num_points,4))\n",
    "for i in range(num_points):\n",
    "    rand_points[i,:] = np.array([random.random(), random.random(), random.random(), 1.0])\n",
    "\n",
    "rand_angles = np.empty((3,1))\n",
    "rand_transl = np.empty((3,1))\n",
    "for i in range(3):\n",
    "    rand_angles[i] = random.random()\n",
    "    rand_transl[i] = random.random()\n",
    "\n",
    "def Rx(theta):\n",
    "  return np.array([[ 1, 0           , 0           ],\n",
    "                   [ 0, math.cos(theta),-math.sin(theta)],\n",
    "                   [ 0, math.sin(theta), math.cos(theta)]])\n",
    "  \n",
    "def Ry(theta):\n",
    "  return np.array([[ math.cos(theta), 0, math.sin(theta)],\n",
    "                   [ 0           , 1, 0           ],\n",
    "                   [-math.sin(theta), 0, math.cos(theta)]])\n",
    "  \n",
    "def Rz(theta):\n",
    "  return np.array([[ math.cos(theta), -math.sin(theta), 0 ],\n",
    "                   [ math.sin(theta), math.cos(theta) , 0 ],\n",
    "                   [ 0           , 0            , 1 ]])\n",
    "\n",
    "Rot_mat = Rz(rand_angles[2]) @ Ry(rand_angles[1]) @ Rx(rand_angles[0])\n",
    "rand_transf = np.concatenate((Rot_mat.reshape((3, 3)), rand_transl.reshape((3, 1))), axis=1)\n",
    "rand_transf = np.concatenate((rand_transf, np.array([[0,0,0,1]])), axis=0)"
   ]
  },
  {
   "cell_type": "code",
   "execution_count": 6,
   "metadata": {},
   "outputs": [
    {
     "name": "stdout",
     "output_type": "stream",
     "text": [
      "(60, 4)\n"
     ]
    }
   ],
   "source": [
    "# Points in world coordinates - Homogenous\n",
    "\n",
    "rand = True\n",
    "\n",
    "if rand == True:\n",
    "    ph_w = rand_points\n",
    "    # transf_c_w = rand_transf\n",
    "\n",
    "else:\n",
    "    ph_w = np.array([\n",
    "        [ 0.995555881938209 ,  0.4802387824086085 ,  0.01206817493434742 , 1.],\n",
    "        [ 0.48201950525607407 ,  0.03667711951818575 ,  0.2247198631984184 , 1.],\n",
    "        [ 0.39687422295226926 ,  0.4468422492615619 ,  0.5579296060298905 , 1.],\n",
    "        [ 0.1307361548312025 ,  0.0017949235578693656 ,  0.7992104944714973 , 1.],\n",
    "        [ 0.1802038827293625 ,  0.30147195450672637 ,  0.3065432070634452 , 1.],\n",
    "        [ 0.1273136116768765 ,  0.6008489312233133 ,  0.814072408443261 , 1.],\n",
    "        [ 0.5936937283176116 ,  0.5617129604604256 ,  0.21464775634992062 , 1.],\n",
    "        [ 0.07119734746580442 ,  0.777510858755277 ,  0.7501307315179284 , 1.],\n",
    "        [ 0.32389704460643065 ,  0.8900472338710688 ,  0.15140266567649263 , 1.],\n",
    "        [ 0.4290695543893176 ,  0.4611765374631873 ,  0.9408351719872696 , 1.]\n",
    "    ])\n",
    "\n",
    "print(ph_w.shape)\n",
    "n = np.shape(ph_w)[0]\n",
    "ph_w = ph_w.reshape(n, 4)\n"
   ]
  },
  {
   "cell_type": "code",
   "execution_count": 7,
   "metadata": {},
   "outputs": [],
   "source": [
    "# Points in camera coordinates - Homogenous\n",
    "ph_c = (transf_c_w @ ph_w.T).T"
   ]
  },
  {
   "cell_type": "code",
   "execution_count": 8,
   "metadata": {},
   "outputs": [],
   "source": [
    "# Cartesian(?) points\n",
    "# Dont think this is even neccesary if using \"alternative method\"\n",
    "p_w = (pi_mat @ ph_w.T).T\n",
    "p_c = (pi_mat @ ph_c.T).T\n",
    "\n",
    "# Normalized image coordinates\n",
    "s_norm = p_c*(1/(p_c[:,2]).reshape((n,1)))"
   ]
  },
  {
   "cell_type": "code",
   "execution_count": 9,
   "metadata": {},
   "outputs": [],
   "source": [
    "# Pixel coordinates\n",
    "pix_hat = np.rint((camera_para @ s_norm.T).T)\n",
    "\n",
    "# Pixel coordinates - Alternative and preferred method\n",
    "pix_yo = (camera_para @ pi_mat @ transf_c_w @ ph_w.T).T\n",
    "\n",
    "pix_yo = np.rint(pix_yo*(1/(pix_yo[:,2]).reshape((n,1))))"
   ]
  },
  {
   "cell_type": "code",
   "execution_count": 10,
   "metadata": {},
   "outputs": [],
   "source": [
    "#Plotting points - Decomment to see \"photo of points\"\n",
    "\n",
    "# fig_1 = plt.figure()\n",
    "# ax = fig_1.add_subplot()\n",
    "# ax.set_xlim(0,u_0*2)\n",
    "# ax.set_ylim(0,v_0*2)\n",
    "# ax.set_xlabel('X-axis')\n",
    "# ax.set_ylabel('Y-axis')\n",
    "\n",
    "# for i in range(n):\n",
    "#     ax.scatter(pix_yo[i][0], pix_yo[i][1])\n",
    "# plt.show()"
   ]
  },
  {
   "cell_type": "code",
   "execution_count": 11,
   "metadata": {},
   "outputs": [],
   "source": [
    "# Cpmpute alphas\n",
    "# Is transposed right?\n",
    "alpha = np.matmul(np.linalg.inv(ch_w),ph_w.T).T"
   ]
  },
  {
   "cell_type": "code",
   "execution_count": 12,
   "metadata": {},
   "outputs": [],
   "source": [
    "# Calculate M matrix\n",
    "M = np.empty((2*n,12))\n",
    "for i in range(n):\n",
    "    M[i*2,:]= [\n",
    "        alpha[i, 0] * focal, 0, alpha[i, 0] * (u_0 - pix_yo[i, 0]),\n",
    "        alpha[i, 1] * focal, 0, alpha[i, 1] * (u_0 - pix_yo[i, 0]),\n",
    "        alpha[i, 2] * focal, 0, alpha[i, 2] * (u_0 - pix_yo[i, 0]),\n",
    "        alpha[i, 3] * focal, 0, alpha[i, 3] * (u_0 - pix_yo[i, 0])\n",
    "    ]\n",
    "    M[i*2+1,:] = [\n",
    "        0, alpha[i, 0] * focal, alpha[i, 0] * (v_0 - pix_yo[i, 1]),\n",
    "        0, alpha[i, 1] * focal, alpha[i, 1] * (v_0 - pix_yo[i, 1]),\n",
    "        0, alpha[i, 2] * focal, alpha[i, 2] * (v_0 - pix_yo[i, 1]),\n",
    "        0, alpha[i, 3] * focal, alpha[i, 3] * (v_0 - pix_yo[i, 1])\n",
    "    ]\n",
    "# np.linalg.matrix_rank(M)"
   ]
  },
  {
   "cell_type": "code",
   "execution_count": 13,
   "metadata": {},
   "outputs": [
    {
     "name": "stdout",
     "output_type": "stream",
     "text": [
      "[ 9 10 11  8  6  7  5  4  3  2  1  0]\n",
      "[[-0.37  0.28 -0.19 -0.63  0.46  0.24 -0.22  0.02  0.15  0.07 -0.02  0.01]\n",
      " [-0.28 -0.37  0.62  0.05  0.12  0.53  0.09  0.28 -0.06 -0.07  0.01 -0.02]\n",
      " [ 0.04 -0.01  0.16  0.02 -0.06 -0.01  0.01 -0.07  0.25  0.45 -0.62  0.56]\n",
      " [-0.35  0.27  0.28 -0.08 -0.51 -0.29 -0.53  0.30 -0.07 -0.07 -0.01  0.02]\n",
      " [-0.27 -0.35 -0.09  0.00  0.31 -0.62  0.22  0.48  0.16  0.07 -0.03 -0.04]\n",
      " [ 0.03  0.01  0.13 -0.02 -0.11  0.00 -0.01 -0.09  0.23  0.45 -0.25 -0.80]\n",
      " [-0.34  0.26  0.19 -0.28 -0.28 -0.14  0.72 -0.26 -0.09 -0.07  0.01  0.01]\n",
      " [-0.26 -0.35  0.24  0.02  0.22 -0.31 -0.30 -0.71 -0.08 -0.07  0.03  0.00]\n",
      " [ 0.02  0.00  0.14 -0.02 -0.07 -0.01  0.00 -0.04  0.20  0.60  0.73  0.20]\n",
      " [ 0.50 -0.38  0.16 -0.72 -0.19 -0.12 -0.04  0.06 -0.07 -0.07 -0.00  0.02]\n",
      " [ 0.38  0.50  0.55  0.06  0.47 -0.25  0.01  0.06 -0.05 -0.07  0.01 -0.02]\n",
      " [-0.05 -0.00 -0.09 -0.03  0.10 -0.01 -0.01  0.08 -0.87  0.45 -0.09 -0.01]]\n",
      "[[ 0.07 -0.02  0.01  0.15]\n",
      " [-0.07  0.01 -0.02 -0.06]\n",
      " [ 0.45 -0.62  0.56  0.25]\n",
      " [-0.07 -0.01  0.02 -0.07]\n",
      " [ 0.07 -0.03 -0.04  0.16]\n",
      " [ 0.45 -0.25 -0.80  0.23]\n",
      " [-0.07  0.01  0.01 -0.09]\n",
      " [-0.07  0.03  0.00 -0.08]\n",
      " [ 0.60  0.73  0.20  0.20]\n",
      " [-0.07 -0.00  0.02 -0.07]\n",
      " [-0.07  0.01 -0.02 -0.05]\n",
      " [ 0.45 -0.09 -0.01 -0.87]]\n",
      "[[ 0.15  0.01 -0.02  0.07]\n",
      " [-0.06 -0.02  0.01 -0.07]\n",
      " [ 0.25  0.56 -0.62  0.45]\n",
      " [-0.07  0.02 -0.01 -0.07]\n",
      " [ 0.16 -0.04 -0.03  0.07]\n",
      " [ 0.23 -0.80 -0.25  0.45]\n",
      " [-0.09  0.01  0.01 -0.07]\n",
      " [-0.08  0.00  0.03 -0.07]\n",
      " [ 0.20  0.20  0.73  0.60]\n",
      " [-0.07  0.02 -0.00 -0.07]\n",
      " [-0.05 -0.02  0.01 -0.07]\n",
      " [-0.87 -0.01 -0.09  0.45]]\n"
     ]
    }
   ],
   "source": [
    "# Compute M_T_M and V\n",
    "M_T_M = np.matmul(M.T,M)\n",
    "W, V = np.linalg.eig(M_T_M)\n",
    "# Other method using svd\n",
    "Usvd, sig, Vsvd = np.linalg.svd(M)\n",
    "\n",
    "# Finding smallest eigenvalues and their eigenvector\n",
    "idx = W.argsort()\n",
    "K = V[:, idx[:4]]\n",
    "kernel = np.array([K.T[3], K.T[2], K.T[1], K.T[0]]).T\n",
    "print(idx)\n",
    "print(V)\n",
    "print(K)\n",
    "print(kernel)"
   ]
  },
  {
   "cell_type": "code",
   "execution_count": 14,
   "metadata": {},
   "outputs": [],
   "source": [
    "# Compute rho\n",
    "rho = np.array([\n",
    "    np.linalg.norm(ch_w[:,0]-ch_w[:,1])**2,\n",
    "    np.linalg.norm(ch_w[:,0]-ch_w[:,2])**2,\n",
    "    np.linalg.norm(ch_w[:,0]-ch_w[:,3])**2,\n",
    "    np.linalg.norm(ch_w[:,1]-ch_w[:,2])**2,\n",
    "    np.linalg.norm(ch_w[:,1]-ch_w[:,3])**2,\n",
    "    np.linalg.norm(ch_w[:,2]-ch_w[:,3])**2\n",
    "])"
   ]
  },
  {
   "cell_type": "code",
   "execution_count": 15,
   "metadata": {},
   "outputs": [],
   "source": [
    "# Compute L_6_10\n",
    "# Did not understand this one, \"borrowed\" from epnp python dude\n",
    "L_6_10 = np.zeros((6,10))\n",
    "\n",
    "v = []\n",
    "for i in range(4):\n",
    "    v.append(kernel[:, i])\n",
    "\n",
    "dv = []\n",
    "\n",
    "for r in range(4):\n",
    "    dv.append([])\n",
    "    for i in range(3):\n",
    "        for j in range(i+1, 4):\n",
    "            dv[r].append(v[r][3*i:3*(i+1)]-v[r][3*j:3*(j+1)])\n",
    "\n",
    "index = [\n",
    "    (0, 0),\n",
    "    (0, 1),\n",
    "    (1, 1),\n",
    "    (0, 2),\n",
    "    (1, 2),\n",
    "    (2, 2),\n",
    "    (0, 3),\n",
    "    (1, 3),\n",
    "    (2, 3),\n",
    "    (3, 3)\n",
    "    ]\n",
    "\n",
    "for i in range(6):\n",
    "    j = 0\n",
    "    for a, b in index:\n",
    "        L_6_10[i, j] = np.matmul(dv[a][i], dv[b][i].T)\n",
    "        if a != b:\n",
    "            L_6_10[i, j] *= 2\n",
    "        j += 1\n",
    "    \n",
    "\n",
    "# Computing L_6_6\n",
    "L_6_6 = L_6_10[:, (2, 4, 7, 5, 8, 9)]\n",
    "\n",
    "# Computing L_6_3\n",
    "L_6_3 = L_6_10[:, (5,8,9)]\n",
    "# print(L_6_3,\"\\n\", L_6_6,\"\\n\", L_6_10)"
   ]
  },
  {
   "cell_type": "code",
   "execution_count": 16,
   "metadata": {},
   "outputs": [],
   "source": [
    "# Trying to calculate beta 1\n",
    "def calc_beta_1(V, C):\n",
    "    # Hard coding, maybe efficient afterwards\n",
    "    temp1  = np.linalg.norm(V[0:3]-V[3:6]) *np.linalg.norm(C[0,:]-C[1,:])\n",
    "    temp1 += np.linalg.norm(V[0:3]-V[6:9]) *np.linalg.norm(C[0,:]-C[2,:])\n",
    "    temp1 += np.linalg.norm(V[0:3]-V[9:12])*np.linalg.norm(C[0,:]-C[3,:])\n",
    "    temp1 += np.linalg.norm(V[3:6]-V[6:9]) *np.linalg.norm(C[1,:]-C[2,:])\n",
    "    temp1 += np.linalg.norm(V[3:6]-V[9:12])*np.linalg.norm(C[1,:]-C[3,:])\n",
    "    temp1 += np.linalg.norm(V[6:9]-V[9:12])*np.linalg.norm(C[2,:]-C[3,:])\n",
    "\n",
    "    temp2  = np.linalg.norm(V[0:3]-V[3:6]) **2\n",
    "    temp2 += np.linalg.norm(V[0:3]-V[6:9]) **2\n",
    "    temp2 += np.linalg.norm(V[0:3]-V[9:12])**2\n",
    "    temp2 += np.linalg.norm(V[3:6]-V[6:9]) **2\n",
    "    temp2 += np.linalg.norm(V[3:6]-V[9:12])**2\n",
    "    temp2 += np.linalg.norm(V[6:9]-V[9:12])**2\n",
    "\n",
    "    return temp1/temp2"
   ]
  },
  {
   "cell_type": "code",
   "execution_count": 17,
   "metadata": {},
   "outputs": [
    {
     "data": {
      "text/plain": [
       "8.350662629362803"
      ]
     },
     "execution_count": 17,
     "metadata": {},
     "output_type": "execute_result"
    }
   ],
   "source": [
    "calc_beta_1(K[:, :1], ch_w)"
   ]
  },
  {
   "cell_type": "code",
   "execution_count": 18,
   "metadata": {},
   "outputs": [],
   "source": [
    "# Computing betas\n",
    "# Case 1 - N = 1\n",
    "beta_1_1 = [calc_beta_1(K[:, :1], ch_w)]\n",
    "X1 = beta_1_1 * K[:, 0] # X\n",
    "\n",
    "\n",
    "# Case 2 - N = 2\n",
    "betas_2 = np.matmul(np.linalg.pinv(L_6_3), rho)\n",
    "beta_2_1 = np.sqrt(abs(betas_2[0]))\n",
    "beta_2_2 = np.sqrt(abs(betas_2[2]))*np.sign(betas_2[0])*np.sign(betas_2[1])\n",
    "# Error potential K opposite/ betas opposite\n",
    "X2 = beta_2_1 * K[:,1] + beta_2_2 * K[:,0]\n",
    "\n",
    "\n",
    "# Case 3 - N = 3\n",
    "betas_3 = np.matmul(np.linalg.inv(L_6_6), rho)\n",
    "beta_3_1 = math.sqrt(abs(betas_3[0]))\n",
    "beta_3_2 = math.sqrt(abs(betas_3[3])) * np.sign(betas_3[1]) * np.sign(betas_3[0])\n",
    "beta_3_3 = math.sqrt(abs(betas_3[5])) * np.sign(betas_3[2]) * np.sign(betas_3[0])\n",
    "# Error potential K opposite/ betas opposite\n",
    "X3 = beta_3_1 * K[:,2] + beta_3_2 * K[:,1] + beta_3_3 * K[:,0]"
   ]
  },
  {
   "cell_type": "code",
   "execution_count": 19,
   "metadata": {},
   "outputs": [],
   "source": [
    "# Calculating Cc, Xc, sc for each Case\n",
    "# Also borrowed from Epnp python\n",
    "# Case 1\n",
    "Cc_1 = []\n",
    "for i in range(4):\n",
    "    Cc_1.append(X1[(3 * i) : (3 * (i + 1))])\n",
    "Cc_1 = np.array(Cc_1).reshape((4,3))\n",
    "\n",
    "Xc_1 = np.matmul(alpha, Cc_1)\n",
    "\n",
    "centr_w = np.mean(p_w, axis=0)\n",
    "centroid_w = np.tile(centr_w.reshape((1,3)), (n,1))\n",
    "tmp1 = p_w.reshape((n,3)) - centroid_w\n",
    "dist_w = np.sqrt(np.sum(tmp1**2, axis=1))\n",
    "\n",
    "centr_c = np.mean(Xc_1, axis=0)\n",
    "centroid_c = np.tile(centr_c.reshape((1,3)), (n,1))\n",
    "tmp2 = Xc_1.reshape((n,3)) - centroid_c\n",
    "dist_c = np.sqrt(np.sum(tmp2**2, axis=1))\n",
    "\n",
    "sc_1_1 = np.matmul(dist_c.T, dist_c) ** -1\n",
    "sc_1_2 = np.matmul(dist_c.T, dist_w)\n",
    "sc_1 = sc_1_1 * sc_1_2\n",
    "\n",
    "Cc_1 *= sc_1\n",
    "Xc_1 = np.matmul(alpha, Cc_1)\n",
    "\n",
    "for x in Xc_1:\n",
    "    if x[-1] < 0:\n",
    "        Xc_1 *= -1\n",
    "        Cc_1 *= -1"
   ]
  },
  {
   "cell_type": "code",
   "execution_count": 20,
   "metadata": {},
   "outputs": [],
   "source": [
    "# Case 2\n",
    "Cc_2 = []\n",
    "for i in range(4):\n",
    "    Cc_2.append(X2[(3 * i) : (3 * (i + 1))])\n",
    "Cc_2 = np.array(Cc_2).reshape((4,3))\n",
    "\n",
    "Xc_2 = np.matmul(alpha, Cc_2)\n",
    "\n",
    "centr_w = np.mean(p_w, axis=0)\n",
    "centroid_w = np.tile(centr_w.reshape((1,3)), (n,1))\n",
    "tmp1 = p_w.reshape((n,3))-centroid_w\n",
    "dist_w = np.sqrt(np.sum(tmp1**2, axis=1))\n",
    "\n",
    "centr_c = np.mean(Xc_2, axis=0)\n",
    "centroid_c = np.tile(centr_c.reshape((1,3)), (n,1))\n",
    "tmp2 = Xc_2.reshape((n,3))-centroid_c\n",
    "dist_c = np.sqrt(np.sum(tmp2**2, axis=1))\n",
    "\n",
    "sc_2_1 = np.matmul(dist_c.T, dist_c) ** -1\n",
    "sc_2_2 = np.matmul(dist_c.T, dist_w)\n",
    "sc_2 = sc_2_1 * sc_2_2\n",
    "\n",
    "Cc_2 *= sc_2\n",
    "Xc_2 = np.matmul(alpha, Cc_2)\n",
    "for x in Xc_2:\n",
    "    if x[-1] < 0:\n",
    "        Xc_2 *= -1\n",
    "        Cc_2 *= -1"
   ]
  },
  {
   "cell_type": "code",
   "execution_count": 21,
   "metadata": {},
   "outputs": [],
   "source": [
    "# Case 3\n",
    "Cc_3 = []\n",
    "for i in range(4):\n",
    "    Cc_3.append(X3[(3 * i) : (3 * (i + 1))])\n",
    "Cc_3 = np.array(Cc_3).reshape((4,3))\n",
    "\n",
    "Xc_3 = np.matmul(alpha, Cc_3)\n",
    "\n",
    "centr_w = np.mean(p_w, axis=0)\n",
    "centroid_w = np.tile(centr_w.reshape((1,3)), (n,1))\n",
    "tmp1 = p_w.reshape((n,3))-centroid_w\n",
    "dist_w = np.sqrt(np.sum(tmp1**2, axis=1))\n",
    "\n",
    "centr_c = np.mean(Xc_3, axis=0)\n",
    "centroid_c = np.tile(centr_c.reshape((1,3)), (n,1))\n",
    "tmp2 = Xc_3.reshape((n,3))-centroid_c\n",
    "dist_c = np.sqrt(np.sum(tmp2**2, axis=1))\n",
    "\n",
    "sc_3_1 = np.matmul(dist_c.T, dist_c) ** -1\n",
    "sc_3_2 = np.matmul(dist_c.T, dist_w)\n",
    "sc_3 = sc_3_1 * sc_3_2\n",
    "\n",
    "Cc_3 *= sc_3\n",
    "Xc_3 = np.matmul(alpha, Cc_3)\n",
    "for x in Xc_3:\n",
    "    if x[-1] < 0:\n",
    "        Xc_3 *= -1\n",
    "        Cc_3 *= -1\n"
   ]
  },
  {
   "cell_type": "code",
   "execution_count": 22,
   "metadata": {},
   "outputs": [
    {
     "name": "stdout",
     "output_type": "stream",
     "text": [
      "(60, 3)\n",
      "(60, 3)\n"
     ]
    }
   ],
   "source": [
    "# Calculating Transformation matrix\n",
    "# Also borrowed from Epnp python\n",
    "# Case 1\n",
    "wpts = p_w\n",
    "cpts = Xc_1\n",
    "\n",
    "wcent = np.tile(np.mean(wpts, axis=0).reshape((1, 3)), (n, 1))\n",
    "ccent = np.tile(np.mean(cpts, axis=0).reshape((1, 3)), (n, 1))\n",
    "print(ccent.shape)\n",
    "print(cpts.shape)\n",
    "\n",
    "wpts = wpts.reshape((n, 3)) - wcent\n",
    "cpts = cpts.reshape((n, 3)) - ccent\n",
    "\n",
    "M = np.matmul(cpts.T, wpts)\n",
    "\n",
    "U, S, V = np.linalg.svd(M)\n",
    "R_1 = np.matmul(U, V)\n",
    "\n",
    "if np.linalg.det(R_1) < 0:\n",
    "    R_1 = - R_1\n",
    "    \n",
    "T_1 = ccent[0].transpose() - np.matmul(R_1, wcent[0].transpose())\n",
    "\n",
    "Rt_1 = np.concatenate((R_1.reshape((3, 3)), T_1.reshape((3, 1))), axis=1)"
   ]
  },
  {
   "cell_type": "code",
   "execution_count": 23,
   "metadata": {},
   "outputs": [],
   "source": [
    "# Case 2\n",
    "wpts = p_w\n",
    "cpts = Xc_2\n",
    "\n",
    "wcent = np.tile(np.mean(wpts, axis=0).reshape((1, 3)), (n, 1))\n",
    "ccent = np.tile(np.mean(cpts, axis=0).reshape((1, 3)), (n, 1))\n",
    "\n",
    "wpts = wpts.reshape((n, 3)) - wcent\n",
    "cpts = cpts.reshape((n, 3)) - ccent\n",
    "\n",
    "M = np.matmul(cpts.T, wpts)\n",
    "\n",
    "U, S, V = np.linalg.svd(M)\n",
    "R_2 = np.matmul(U, V)\n",
    "\n",
    "if np.linalg.det(R_2) < 0:\n",
    "    R_2 = - R_2\n",
    "    \n",
    "T_2 = ccent[0].transpose() - np.matmul(R_2, wcent[0].transpose())\n",
    "\n",
    "Rt_2 = np.concatenate((R_2.reshape((3, 3)), T_2.reshape((3, 1))), axis=1)"
   ]
  },
  {
   "cell_type": "code",
   "execution_count": 24,
   "metadata": {},
   "outputs": [],
   "source": [
    "# Case 3\n",
    "wpts = p_w\n",
    "cpts = Xc_3\n",
    "\n",
    "wcent = np.tile(np.mean(wpts, axis=0).reshape((1, 3)), (n, 1))\n",
    "ccent = np.tile(np.mean(cpts, axis=0).reshape((1, 3)), (n, 1))\n",
    "\n",
    "wpts = wpts.reshape((n, 3)) - wcent\n",
    "cpts = cpts.reshape((n, 3)) - ccent\n",
    "\n",
    "M = np.matmul(cpts.T, wpts)\n",
    "\n",
    "U, S, V = np.linalg.svd(M)\n",
    "R_3 = np.matmul(U, V)\n",
    "\n",
    "if np.linalg.det(R_3) < 0:\n",
    "    R_3 = - R_3\n",
    "    \n",
    "T_3 = ccent[0].transpose() - np.matmul(R_3, wcent[0].transpose())\n",
    "\n",
    "Rt_3 = np.concatenate((R_3.reshape((3, 3)), T_3.reshape((3, 1))), axis=1)"
   ]
  },
  {
   "cell_type": "code",
   "execution_count": 25,
   "metadata": {},
   "outputs": [],
   "source": [
    "def reprojection_error_usingRT(Xw, U, RT):\n",
    "        A = camera_para\n",
    "        P = np.matmul(A[:, :3], RT)\n",
    "        Xw_h = np.concatenate((Xw.reshape((n, 3)), np.array([np.ones((n))]).T), axis=1)\n",
    "    \n",
    "        Urep = np.matmul(P, Xw_h.T).T\n",
    "        Urep[:, 0] = Urep[:, 0] / Urep[:, 2]\n",
    "        Urep[:, 1] = Urep[:, 1] / Urep[:, 2]\n",
    "        err = np.sqrt((U[:, 0] - Urep[:, 0].reshape((n, 1))) ** 2 + (U[:, 1] - Urep[:, 1].reshape((n, 1))) ** 2)\n",
    "        err = np.sum(err, axis=0) / n\n",
    "\n",
    "        return err[0]"
   ]
  },
  {
   "cell_type": "code",
   "execution_count": 26,
   "metadata": {},
   "outputs": [
    {
     "name": "stdout",
     "output_type": "stream",
     "text": [
      "220.8480059346014 218.5239400677756 221.83865834756548\n"
     ]
    }
   ],
   "source": [
    "err_1 = reprojection_error_usingRT(p_w, pix_yo, Rt_1)\n",
    "err_2 = reprojection_error_usingRT(p_w, pix_yo, Rt_2)\n",
    "err_3 = reprojection_error_usingRT(p_w, pix_yo, Rt_3)\n",
    "print(err_1, err_2, err_3)"
   ]
  },
  {
   "cell_type": "code",
   "execution_count": 27,
   "metadata": {},
   "outputs": [
    {
     "name": "stdout",
     "output_type": "stream",
     "text": [
      "(60, 3)\n",
      "(60, 2)\n"
     ]
    }
   ],
   "source": [
    "success_cv, rotation_cv, translation_cv = cv.solvePnP(p_w, pix_yo[:,:2], camera_para, None)\n",
    "transf_cv = Tr(rotation_cv, translation_cv)\n",
    "p_c_cv = (pi_mat @ transf_cv @ ph_w.T).T\n",
    "snorm_cv = p_c_cv*(1/p_c_cv[:,2].reshape((n,1)))\n",
    "pix_cv = snorm_cv @ camera_para.T\n",
    "print(p_w.shape)\n",
    "print(pix_yo[:,:2].shape)"
   ]
  },
  {
   "cell_type": "code",
   "execution_count": 28,
   "metadata": {},
   "outputs": [
    {
     "name": "stdout",
     "output_type": "stream",
     "text": [
      "[[ 1.00  0.00  0.00 -0.50]\n",
      " [ 0.00  1.00  0.00 -0.50]\n",
      " [ 0.00  0.00  1.00  3.00]\n",
      " [ 0.00  0.00  0.00  1.00]]\n",
      "\n",
      "[[ 1.00 -0.00  0.00 -0.50]\n",
      " [ 0.00  1.00 -0.00 -0.50]\n",
      " [-0.00  0.00  1.00  3.00]]\n",
      "\n",
      "[[ 1.00  0.00 -0.03 -0.49]\n",
      " [-0.00  1.00 -0.00 -0.50]\n",
      " [ 0.03  0.00  1.00  3.06]]\n",
      "\n",
      "[[ 1.00  0.00 -0.01 -0.50]\n",
      " [-0.00  1.00  0.01 -0.51]\n",
      " [ 0.01 -0.01  1.00  2.98]]\n"
     ]
    }
   ],
   "source": [
    "print(transf_c_w)\n",
    "print()\n",
    "print(Rt_1)\n",
    "print()\n",
    "print(Rt_2)\n",
    "print()\n",
    "print(Rt_3)"
   ]
  },
  {
   "cell_type": "code",
   "execution_count": 29,
   "metadata": {},
   "outputs": [
    {
     "data": {
      "image/png": "[encoded data removed]",
      "text/plain": [
       "<Figure size 432x288 with 1 Axes>"
      ]
     },
     "metadata": {
      "needs_background": "light"
     },
     "output_type": "display_data"
    }
   ],
   "source": [
    "fig_1 = plt.figure()\n",
    "ax = fig_1.add_subplot(projection='3d')\n",
    "# ax.set_xlim(-1,1)\n",
    "# ax.set_ylim(-1,1)\n",
    "# ax.set_zlim(-3,3)\n",
    "ax.set_xlabel('X-axis')\n",
    "ax.set_ylabel('Y-axis')\n",
    "ax.set_zlabel('Z-axis')\n",
    "\n",
    "for i in range(n):\n",
    "    ax.scatter( p_c[i][0],  p_c[i][1],  p_c[i][2], c='blue')\n",
    "    ax.scatter(Xc_1[i][0], Xc_1[i][1], Xc_1[i][2], c='red')\n",
    "    ax.scatter(Xc_2[i][0], Xc_2[i][1], Xc_2[i][2], c='green')\n",
    "    ax.scatter(Xc_3[i][0], Xc_3[i][1], Xc_3[i][2], c='cyan')\n",
    "\n",
    "    ax.scatter(p_c_cv[i][0], p_c_cv[i][1], p_c_cv[i][2], c='orange')\n",
    "plt.show()"
   ]
  },
  {
   "cell_type": "code",
   "execution_count": 30,
   "metadata": {},
   "outputs": [],
   "source": [
    "# Calculating pixels\n",
    "# Case 1\n",
    "snorm_1 = Xc_1*(1/Xc_1[:,2].reshape((n,1)))\n",
    "pix_c_1 = snorm_1 @ camera_para.T\n",
    "\n",
    "snorm_2 = Xc_2*(1/Xc_2[:,2].reshape((n,1)))\n",
    "pix_c_2 = snorm_2 @ camera_para.T\n",
    "\n",
    "snorm_3 = Xc_3*(1/Xc_3[:,2].reshape((n,1)))\n",
    "pix_c_3 = snorm_3 @ camera_para.T"
   ]
  },
  {
   "cell_type": "code",
   "execution_count": 31,
   "metadata": {},
   "outputs": [
    {
     "data": {
      "image/png": "[encoded data removed]",
      "text/plain": [
       "<Figure size 432x288 with 1 Axes>"
      ]
     },
     "metadata": {
      "needs_background": "light"
     },
     "output_type": "display_data"
    }
   ],
   "source": [
    "#Plotting points\n",
    "\n",
    "fig_1 = plt.figure()\n",
    "ax = fig_1.add_subplot()\n",
    "# ax.set_xlim(0,u_0*2)\n",
    "# ax.set_ylim(0,v_0*2)\n",
    "ax.set_xlabel('X-axis')\n",
    "ax.set_ylabel('Y-axis')\n",
    "\n",
    "for i in range(n):\n",
    "    ax.scatter(pix_yo[i][0], pix_yo[i][1], c=\"blue\", marker='o')\n",
    "    ax.scatter(pix_c_1[i,0], pix_c_1[i,1], c=\"red\", marker='p')\n",
    "    ax.scatter(pix_c_2[i,0], pix_c_2[i,1], c=\"green\", marker='s')\n",
    "    # ax.scatter(pix_c_3[i,0], pix_c_3[i,1], c=\"cyan\", marker='o')\n",
    "\n",
    "    ax.scatter(pix_cv[i,0], pix_cv[i,1], c=\"orange\", marker='>')\n",
    "\n",
    "plt.show()"
   ]
  }
 ],
 "metadata": {
  "interpreter": {
   "hash": "5e520d53f3d2b9263b11734e9688a03c9809db32f2004241b6b6e64c140d8e27"
  },
  "kernelspec": {
   "display_name": "Python 3.8.12 64-bit ('Robot_env': conda)",
   "language": "python",
   "name": "python3"
  },
  "language_info": {
   "codemirror_mode": {
    "name": "ipython",
    "version": 3
   },
   "file_extension": ".py",
   "mimetype": "text/x-python",
   "name": "python",
   "nbconvert_exporter": "python",
   "pygments_lexer": "ipython3",
   "version": "3.8.12"
  },
  "orig_nbformat": 4
 },
 "nbformat": 4,
 "nbformat_minor": 2
}

{
 "cells": [
  {
   "cell_type": "code",
   "execution_count": 11,
   "metadata": {},
   "outputs": [],
   "source": [
    "from utils import *\n",
    "\n",
    "import numpy as np\n",
    "import open3d as o3d\n",
    "import matplotlib.pyplot as plt\n",
    "\n",
    "np.set_printoptions(formatter={'float': '{: 0.2f}'.format})"
   ]
  },
  {
   "cell_type": "code",
   "execution_count": 12,
   "metadata": {},
   "outputs": [
    {
     "name": "stdout",
     "output_type": "stream",
     "text": [
      "0\n"
     ]
    }
   ],
   "source": [
    "iter = 0\n",
    "ones = 0\n",
    "while True:\n",
    "        num = np.random.uniform(-1,1.1)\n",
    "        if num == 1.000000 or num == 0.000:\n",
    "                ones += 1\n",
    "        iter += 1\n",
    "        if iter == 20000000:\n",
    "                break\n",
    "\n",
    "print(ones)"
   ]
  }
 ],
 "metadata": {
  "interpreter": {
   "hash": "a7b2038d95b5311906e160c18cf943288545c27c1ac6c04cf37aa9925e12e8cf"
  },
  "kernelspec": {
   "display_name": "Python 3.8.12 ('RobotEnv')",
   "language": "python",
   "name": "python3"
  },
  "language_info": {
   "codemirror_mode": {
    "name": "ipython",
    "version": 3
   },
   "file_extension": ".py",
   "mimetype": "text/x-python",
   "name": "python",
   "nbconvert_exporter": "python",
   "pygments_lexer": "ipython3",
   "version": "3.8.12"
  },
  "orig_nbformat": 4
 },
 "nbformat": 4,
 "nbformat_minor": 2
}

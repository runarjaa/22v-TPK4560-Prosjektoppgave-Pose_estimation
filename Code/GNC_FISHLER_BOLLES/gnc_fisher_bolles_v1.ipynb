{
 "cells": [
  {
   "cell_type": "code",
   "execution_count": 99,
   "metadata": {},
   "outputs": [],
   "source": [
    "from utils import *\n",
    "\n",
    "import numpy as np\n",
    "import matplotlib.pyplot as plt\n",
    "\n",
    "np.set_printoptions(formatter={'float': '{: 0.6f}'.format})"
   ]
  },
  {
   "cell_type": "code",
   "execution_count": 100,
   "metadata": {},
   "outputs": [],
   "source": [
    "def y(x, m, b):\n",
    "    return m*x + b"
   ]
  },
  {
   "cell_type": "code",
   "execution_count": 101,
   "metadata": {},
   "outputs": [
    {
     "name": "stdout",
     "output_type": "stream",
     "text": [
      "(51, 1) (50, 1)\n",
      "(101, 2)\n"
     ]
    },
    {
     "data": {
      "text/plain": [
       "<matplotlib.collections.PathCollection at 0x298e7bacf40>"
      ]
     },
     "execution_count": 101,
     "metadata": {},
     "output_type": "execute_result"
    },
    {
     "data": {
      "image/png": "[encoded data removed]",
      "text/plain": [
       "<Figure size 432x288 with 1 Axes>"
      ]
     },
     "metadata": {
      "needs_background": "light"
     },
     "output_type": "display_data"
    }
   ],
   "source": [
    "# Input data\n",
    "\n",
    "num = 51\n",
    "noise = 50\n",
    "n = num + noise\n",
    "\n",
    "X = np.linspace(0, 10, num).reshape((num,1))\n",
    "Y = [y(x, 10, 20) for x in X]\n",
    "X_noise = np.random.uniform(0, 10 , noise).reshape((noise, 1))\n",
    "Y_noise = [y(x, np.random.randint(-20,20), np.random.randint(-100,100)) for x in X_noise]\n",
    "\n",
    "print(X.shape, X_noise.shape)\n",
    "\n",
    "X = np.concatenate((X, X_noise), axis=0)\n",
    "Y = np.concatenate((Y, Y_noise), axis=0)\n",
    "\n",
    "X = np.concatenate((X, np.ones((n,1))), axis=1)\n",
    "print(X.shape)\n",
    "plt.scatter(X[:,0], Y, c='g')"
   ]
  },
  {
   "cell_type": "code",
   "execution_count": 102,
   "metadata": {},
   "outputs": [],
   "source": [
    "# points = np.array([\n",
    "#     [0,0],\n",
    "#     [1,1],\n",
    "#     [2,2],\n",
    "#     [3,2],\n",
    "#     [3,3],\n",
    "#     [4,4],\n",
    "#     [10,2]\n",
    "# ])\n",
    "# n = points.shape[0]\n",
    "\n",
    "# Y = np.zeros(n); X = np.ones((n,2))\n",
    "\n",
    "# for i in range(n):\n",
    "#     Y[i] = points[i,1]; X[i] = np.array([points[i,0], 1])"
   ]
  },
  {
   "cell_type": "code",
   "execution_count": 103,
   "metadata": {},
   "outputs": [],
   "source": [
    "# GNC initiation\n",
    "# Initial line guess\n",
    "m0 = 1\n",
    "b0 = 1\n",
    "B0 = np.array([m0, b0])\n",
    "\n",
    "r = np.zeros(n)\n",
    "for i in range(n):\n",
    "    r[i] = np.linalg.norm(Y[i] - X[i] @ B0)\n",
    "r0_max = np.max(r)\n",
    "\n",
    "max_iter = 1000\n",
    "eps = 0.2\n",
    "mu_update = 1.4\n",
    "w = np.ones(n, dtype=np.float32)\n",
    "mu = eps**2 / (2*r0_max**2 - eps**2)\n",
    "\n",
    "# Uncomment this for working gnc on paper points\n",
    "# w = np.array([1,1,1,1,1,1,0], dtype=np.float32)"
   ]
  },
  {
   "cell_type": "code",
   "execution_count": 104,
   "metadata": {},
   "outputs": [
    {
     "name": "stdout",
     "output_type": "stream",
     "text": [
      "[101.0, 0.00040617253, 0.0007087557, 0.0020937063, 0.009466484, 0.57586306, 4.975211, 37.028896, 51.00053, 51.00059, 51.000668, 51.000748, 51.00085, 51.00096, 51.001095, 51.001236, 51.001385, 51.00155, 51.0017, 51.00185, 51.001965, 51.002045, 51.00209, 51.00207, 51.001987, 51.001717, 51.00142, 51.00084, 51.000114, 51.0, 51.0]\n",
      "30\n"
     ]
    }
   ],
   "source": [
    "# GNC iteration\n",
    "last_iter = []\n",
    "B_iter = []\n",
    "iterations = 0\n",
    "\n",
    "for i in range(max_iter):\n",
    "    iterations += 1\n",
    "    last_iter.append(np.sum(w))\n",
    "\n",
    "    # print(\"\\nWeights:\\t\",w)\n",
    "    # print(\"Loss:\\t\\t\",r)\n",
    "\n",
    "    W = np.diag(w)\n",
    "    B = np.linalg.inv(X.T @ W @ X) @ X.T @ W @ Y\n",
    "\n",
    "    B_iter.append(B)\n",
    "\n",
    "    for j in range(n):\n",
    "        r[j] = np.linalg.norm(Y[j] - X[j] @ B)\n",
    "        w[j] = w_from_r(r[j], eps, mu)\n",
    "\n",
    "    mu = mu_update * mu\n",
    "\n",
    "    if i >= 5:\n",
    "        if np.sum(w) == last_iter[i]:\n",
    "            last_iter.append(np.sum(w))\n",
    "            break\n",
    "print(last_iter)\n",
    "print(iterations)"
   ]
  },
  {
   "cell_type": "code",
   "execution_count": 105,
   "metadata": {},
   "outputs": [
    {
     "name": "stdout",
     "output_type": "stream",
     "text": [
      "51 50\n"
     ]
    },
    {
     "data": {
      "image/png": "[encoded data removed]",
      "text/plain": [
       "<Figure size 432x288 with 1 Axes>"
      ]
     },
     "metadata": {
      "needs_background": "light"
     },
     "output_type": "display_data"
    }
   ],
   "source": [
    "fig, ax = plt.subplots()\n",
    "# ax.set_xlim([-0.5,10.5]);ax.set_ylim([-0.4,5])\n",
    "x = np.linspace(-5, 15, 1000)\n",
    "# ax.plot(x, x, color='orange')\n",
    "ax.plot(x, B[0]*x + B[1], color='blue')\n",
    "# ax.scatter(points[:,0], points[:,1], color='green')\n",
    "ax.scatter(X[:,0], Y, c='g')\n",
    "print(num, noise)"
   ]
  }
 ],
 "metadata": {
  "interpreter": {
   "hash": "a7b2038d95b5311906e160c18cf943288545c27c1ac6c04cf37aa9925e12e8cf"
  },
  "kernelspec": {
   "display_name": "Python 3.8.12 ('RobotEnv')",
   "language": "python",
   "name": "python3"
  },
  "language_info": {
   "codemirror_mode": {
    "name": "ipython",
    "version": 3
   },
   "file_extension": ".py",
   "mimetype": "text/x-python",
   "name": "python",
   "nbconvert_exporter": "python",
   "pygments_lexer": "ipython3",
   "version": "3.8.12"
  },
  "orig_nbformat": 4
 },
 "nbformat": 4,
 "nbformat_minor": 2
}

{
 "cells": [
  {
   "cell_type": "code",
   "execution_count": 5,
   "metadata": {},
   "outputs": [],
   "source": [
    "import numpy as np\n",
    "import matplotlib.pyplot as plt\n",
    "import math\n",
    "import cv2 as cv\n",
    "import scipy.io as sio\n",
    "import random\n",
    "from datetime import datetime\n",
    "random.seed(datetime.now())\n",
    "\n",
    "np.set_printoptions(formatter={'float': '{: 0.2f}'.format})"
   ]
  },
  {
   "cell_type": "markdown",
   "metadata": {},
   "source": [
    "### Misc"
   ]
  },
  {
   "cell_type": "code",
   "execution_count": 6,
   "metadata": {},
   "outputs": [],
   "source": [
    "pi_mat = np.eye(3,4)"
   ]
  },
  {
   "cell_type": "markdown",
   "metadata": {},
   "source": [
    "### Transformation matrix"
   ]
  },
  {
   "cell_type": "code",
   "execution_count": 7,
   "metadata": {},
   "outputs": [],
   "source": [
    "def Rx(angle):\n",
    "    angle = angle*(np.pi/180)\n",
    "    return np.array([\n",
    "        [1, 0, 0],\n",
    "        [0, np.cos(angle), -np.sin(angle)],\n",
    "        [0, np.sin(angle),  np.cos(angle)]\n",
    "    ])\n",
    "def Ry(angle):\n",
    "    angle = angle*(np.pi/180)\n",
    "    return np.array([\n",
    "        [np.cos(angle), 0, np.sin(angle)],\n",
    "        [0, 1, 0 ],\n",
    "        [-np.sin(angle), 0,  np.cos(angle)]\n",
    "    ])\n",
    "def Rz(angle):\n",
    "    angle = angle*(np.pi/180)\n",
    "    return np.array([\n",
    "        [1, 0, 0],\n",
    "        [0, np.cos(angle), -np.sin(angle)],\n",
    "        [0, np.sin(angle),  np.cos(angle)]\n",
    "    ])\n",
    "\n",
    "def Tr(x,y,z):\n",
    "    return np.array([x,y,z])\n",
    "\n",
    "def T(anglex, angley, anglez, x, y, z):\n",
    "    R = Rz(anglez) @ Ry(angley) @ Rx(anglex)\n",
    "    T = Tr(x,y,z)\n",
    "    temp = np.concatenate((R.reshape(3,3), T.reshape((3,1))), axis=1)\n",
    "    temp = np.concatenate((temp, np.array([[0,0,0,1]]).reshape((1,4))))\n",
    "    return temp"
   ]
  },
  {
   "cell_type": "markdown",
   "metadata": {},
   "source": [
    "### Camera Matrix"
   ]
  },
  {
   "cell_type": "code",
   "execution_count": 8,
   "metadata": {},
   "outputs": [],
   "source": [
    "def C(fu, fv, u0, v0):\n",
    "    return np.array([\n",
    "            [  fu,   0, u0],\n",
    "            [    0, fv, v0],\n",
    "            [    0,  0,  1]\n",
    "        ])"
   ]
  },
  {
   "cell_type": "markdown",
   "metadata": {},
   "source": [
    "### Random dataset"
   ]
  },
  {
   "cell_type": "code",
   "execution_count": null,
   "metadata": {},
   "outputs": [],
   "source": [
    "def load_random_data(n, Rot, Tr, fu, fv, u0, v0):\n",
    "    "
   ]
  },
  {
   "cell_type": "code",
   "execution_count": 10,
   "metadata": {},
   "outputs": [
    {
     "data": {
      "text/plain": [
       "array([[1500,    0,  640],\n",
       "       [   0, 1500,  512],\n",
       "       [   0,    0,    1]])"
      ]
     },
     "execution_count": 10,
     "metadata": {},
     "output_type": "execute_result"
    }
   ],
   "source": []
  }
 ],
 "metadata": {
  "interpreter": {
   "hash": "5e520d53f3d2b9263b11734e9688a03c9809db32f2004241b6b6e64c140d8e27"
  },
  "kernelspec": {
   "display_name": "Python 3.8.12 ('Robot_env')",
   "language": "python",
   "name": "python3"
  },
  "language_info": {
   "codemirror_mode": {
    "name": "ipython",
    "version": 3
   },
   "file_extension": ".py",
   "mimetype": "text/x-python",
   "name": "python",
   "nbconvert_exporter": "python",
   "pygments_lexer": "ipython3",
   "version": "3.8.12"
  },
  "orig_nbformat": 4
 },
 "nbformat": 4,
 "nbformat_minor": 2
}

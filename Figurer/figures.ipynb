{
 "cells": [
  {
   "cell_type": "code",
   "execution_count": 1,
   "metadata": {},
   "outputs": [
    {
     "name": "stdout",
     "output_type": "stream",
     "text": [
      "[Warning] Since Open3D 0.15, installing Open3D via conda is deprecated. Please re-install Open3D via: `pip install open3d -U`.\n",
      "Jupyter environment detected. Enabling Open3D WebVisualizer.\n",
      "[Open3D INFO] WebRTC GUI backend enabled.\n",
      "[Open3D INFO] WebRTCWindowSystem: HTTP handshake server disabled.\n"
     ]
    }
   ],
   "source": [
    "%matplotlib qt\n",
    "\n",
    "import numpy as np\n",
    "import matplotlib.pyplot as plt\n",
    "import open3d as o3d\n",
    "import open3d.visualization.gui as gui\n",
    "import open3d.visualization.rendering as rendering\n",
    "\n",
    "from utils import *\n",
    "from objects import *\n",
    "\n",
    "np.set_printoptions(formatter={'float': '{: 0.6f}'.format})"
   ]
  },
  {
   "cell_type": "markdown",
   "metadata": {},
   "source": [
    "# Pinhole camera model"
   ]
  },
  {
   "cell_type": "code",
   "execution_count": 2,
   "metadata": {},
   "outputs": [],
   "source": [
    "# Pinhole Camera Model\n",
    "\n",
    "# Setup\n",
    "fig_1 = plt.figure(figsize=(12, 8))\n",
    "ax = fig_1.add_subplot(projection='3d')\n",
    "# ax.set_axis_off()\n",
    "\n",
    "ax.set_xlim(-1.5,1.5)\n",
    "ax.set_ylim(-1.5,1.5)\n",
    "ax.set_zlim(-1.1,3.1)\n",
    "ax.set_xlabel('X-axis')\n",
    "ax.set_ylabel('Y-axis')\n",
    "ax.set_zlabel('Z-axis')\n",
    "\n",
    "\n",
    "# Important points\n",
    "origo = [0, 0, 0]\n",
    "x1 = [-5, 0, 0]\n",
    "x2 = [ 5, 0, 0]\n",
    "y1 = [ 0,-5, 0]\n",
    "y2 = [ 0, 5, 0]\n",
    "z1 = [ 0, 0,-5]\n",
    "z2 = [ 0, 0, 5]\n",
    "\n",
    "p1 = [1.5, 1.5, 3]\n",
    "p2 = [0.5, 0.5, 1]\n",
    "p3 = [-0.5, -0.5, -1]\n",
    "\n",
    "ax.scatter3D(origo[0], origo[1], origo[2])\n",
    "ax.scatter3D(p1[0], p1[1], p1[2])\n",
    "ax.scatter3D(p2[0], p2[1], p2[2])\n",
    "ax.scatter3D(p3[0], p3[1], p3[2])\n",
    "\n",
    "# Lines\n",
    "# Axes\n",
    "ax_x_x = [x1[0], x2[0]];      ax_x_y = [x1[1], x2[1]];      ax_x_z = [x1[2], x2[2]]\n",
    "ax_y_x = [y1[0], y2[0]];      ax_y_y = [y1[1], y2[1]];      ax_y_z = [y1[2], y2[2]]\n",
    "ax_z_x = [z1[0], z2[0]];      ax_z_y = [z1[1], z2[1]];      ax_z_z = [z1[2], z2[2]]\n",
    "\n",
    "ax.plot3D(ax_x_x, ax_x_y, ax_x_z, label='x-axis')\n",
    "ax.plot3D(ax_y_x, ax_y_y, ax_y_z, label='y-axis')\n",
    "ax.plot3D(ax_z_x, ax_z_y, ax_z_z, label='z-axis')\n",
    "\n",
    "# Line 1\n",
    "l_1_x = [p1[0], p3[0]];      l_1_y = [p1[1], p3[1]];      l_1_z = [p1[2], p3[2]]\n",
    "\n",
    "\n",
    "ax.plot3D(l_1_x, l_1_y, l_1_z)\n",
    "\n",
    "\n",
    "\n",
    "# Planes\n",
    "N = 2\n",
    "\n",
    "x_values = np.linspace(-5,5,N)\n",
    "y_values = np.linspace(-5,5,N)\n",
    "\n",
    "def plane1(x, y):\n",
    "    return 1 + 0*x + 0*y\n",
    "\n",
    "def plane2(x, y):\n",
    "    return -1 + 0*x + 0*y\n",
    "\n",
    "X, Y = np.meshgrid(x_values, y_values)\n",
    "Z1 = plane1(X, Y)\n",
    "Z2 = plane2(X, Y)\n",
    "\n",
    "# X, Y= np.meshgrid(range(-5, 5), range(-5, 5))\n",
    "# Z = 1*X\n",
    "\n",
    "ax.plot_surface(X, Y, Z1, alpha=0.5)\n",
    "ax.plot_surface(X, Y, Z2, alpha=0.5)\n",
    "\n",
    "\n",
    "ax.view_init(elev=10, azim=60)\n",
    "ax.dist = 8\n",
    "plt.show()\n"
   ]
  },
  {
   "cell_type": "code",
   "execution_count": 4,
   "metadata": {},
   "outputs": [],
   "source": [
    "path_to_bunny = \"D:\\\\Skole\\\\Semester_10\\\\Prosjektoppgave\\\\Data\\\\bunny\\\\reconstruction\\\\bun_zipper.ply\"\n",
    "bunny_ply = o3d.io.read_point_cloud(path_to_bunny)\n",
    "o3d.visualization.draw_geometries([bunny_ply], width=1600, height=900)"
   ]
  }
 ],
 "metadata": {
  "interpreter": {
   "hash": "5e520d53f3d2b9263b11734e9688a03c9809db32f2004241b6b6e64c140d8e27"
  },
  "kernelspec": {
   "display_name": "Python 3.8.12 ('Robot_env')",
   "language": "python",
   "name": "python3"
  },
  "language_info": {
   "codemirror_mode": {
    "name": "ipython",
    "version": 3
   },
   "file_extension": ".py",
   "mimetype": "text/x-python",
   "name": "python",
   "nbconvert_exporter": "python",
   "pygments_lexer": "ipython3",
   "version": "3.8.12"
  },
  "orig_nbformat": 4
 },
 "nbformat": 4,
 "nbformat_minor": 2
}

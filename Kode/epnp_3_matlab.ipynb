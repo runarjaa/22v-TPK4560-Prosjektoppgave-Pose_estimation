{
 "cells": [
  {
   "cell_type": "code",
   "execution_count": 120,
   "metadata": {},
   "outputs": [],
   "source": [
    "import numpy as np\n",
    "import matplotlib.pyplot as plt\n",
    "import math\n",
    "import cv2 as cv\n",
    "import scipy.io as sio\n",
    "\n",
    "np.set_printoptions(formatter={'float': lambda x: \"{0:0.3f}\".format(x)})"
   ]
  },
  {
   "cell_type": "markdown",
   "metadata": {},
   "source": [
    "## Data from Matlab"
   ]
  },
  {
   "cell_type": "code",
   "execution_count": 121,
   "metadata": {},
   "outputs": [],
   "source": [
    "# Points from matlab\n",
    "data = sio.loadmat(\"D:\\\\Skole\\\\Semester 10\\\\Prosjektoppgave\\\\EPnP_Python-master\\\\input\" + '\\\\input_data_noise.mat')\n",
    "\n",
    "A = data['A']\n",
    "Rt = data['Rt']\n",
    "\n",
    "points = data['point']\n",
    "n = len(points[0])\n",
    "Xcam, Ximg_true, Ximg_pix_true, Ximg, Ximg_pix, Xworld= [], [], [], [], [], []\n",
    "for p in points[0]:\n",
    "    Xcam.append(p[0])\n",
    "    Ximg_true.append(p[1])\n",
    "    Ximg_pix_true.append(p[2])\n",
    "    Ximg.append(p[3])\n",
    "    Ximg_pix.append(p[4])\n",
    "    Xworld.append(p[5])\n",
    "\n",
    "Xcam = np.array(Xcam)\n",
    "Ximg_true = np.array(Ximg_true)\n",
    "Ximg_pix_true = np.array(Ximg_pix_true)\n",
    "Ximg = np.array(Ximg)\n",
    "Ximg_pix = np.array(Ximg_pix)\n",
    "Xworld = np.array(Xworld)\n",
    "\n",
    "\n",
    "\n",
    "n = len(Ximg_pix)\n",
    "\n",
    "# Random data\n",
    "focal = 800\n",
    "u_0 = 320\n",
    "v_0 = 240\n",
    "\n",
    "# Transformation Matrix\n",
    "transf_c_w = np.array([\n",
    "    [0.7434,-0.6526, 0.1465, 0],\n",
    "    [0.6274, 0.6044,-0.4910, 0],\n",
    "    [0.2319, 0.4570, 0.8587, 0],\n",
    "    [0     , 0     , 0     , 1]\n",
    "])\n",
    "\n",
    "# Parameter matrix\n",
    "camera_para =  np.array([\n",
    "    [focal,     0, u_0],\n",
    "    [    0, focal, v_0],\n",
    "    [    0,     0,   1]\n",
    "])\n",
    "\n",
    "pi_mat = np.eye(3,4)\n",
    "\n",
    "# Define Control Points in World coor coor - control world\n",
    "# Potenital error: Transpose or not?\n",
    "ch_w = np.array([\n",
    "    [1, 0, 0, 1], \n",
    "    [0, 1, 0, 1], \n",
    "    [0, 0, 1, 1],\n",
    "    [0, 0, 0, 1]\n",
    "]).T\n",
    "\n",
    "c_w = pi_mat @ ch_w"
   ]
  },
  {
   "cell_type": "markdown",
   "metadata": {},
   "source": [
    "## Computing alpha, M, kernel"
   ]
  },
  {
   "cell_type": "code",
   "execution_count": 122,
   "metadata": {},
   "outputs": [],
   "source": [
    "# Cpmpute alphas\n",
    "# Question: Why [0]?\n",
    "X_w = Xworld.T[0]\n",
    "Xh_w = np.concatenate((X_w, np.array([np.ones((n))])), axis=0)\n",
    "\n",
    "alpha = np.matmul(np.linalg.inv(ch_w), Xh_w).T"
   ]
  },
  {
   "cell_type": "code",
   "execution_count": 123,
   "metadata": {},
   "outputs": [
    {
     "name": "stderr",
     "output_type": "stream",
     "text": [
      "C:\\Users\\runar\\AppData\\Local\\Temp/ipykernel_12356/1510779535.py:5: VisibleDeprecationWarning: Creating an ndarray from ragged nested sequences (which is a list-or-tuple of lists-or-tuples-or ndarrays with different lengths or shapes) is deprecated. If you meant to do this, you must specify 'dtype=object' when creating the ndarray.\n",
      "  M[i*2,:]= np.array([\n",
      "C:\\Users\\runar\\AppData\\Local\\Temp/ipykernel_12356/1510779535.py:11: VisibleDeprecationWarning: Creating an ndarray from ragged nested sequences (which is a list-or-tuple of lists-or-tuples-or ndarrays with different lengths or shapes) is deprecated. If you meant to do this, you must specify 'dtype=object' when creating the ndarray.\n",
      "  M[i*2+1,:] = np.array([\n"
     ]
    }
   ],
   "source": [
    "# Calculate M matrix\n",
    "# Question: Why error below?\n",
    "M = np.empty((2*n,12))\n",
    "for i in range(n):\n",
    "    M[i*2,:]= np.array([\n",
    "        alpha[i, 0] * focal, 0, alpha[i, 0] * (u_0 - Ximg_pix[i, 0]),\n",
    "        alpha[i, 1] * focal, 0, alpha[i, 1] * (u_0 - Ximg_pix[i, 0]),\n",
    "        alpha[i, 2] * focal, 0, alpha[i, 2] * (u_0 - Ximg_pix[i, 0]),\n",
    "        alpha[i, 3] * focal, 0, alpha[i, 3] * (u_0 - Ximg_pix[i, 0])\n",
    "    ])\n",
    "    M[i*2+1,:] = np.array([\n",
    "        0, alpha[i, 0] * focal, alpha[i, 0] * (v_0 - Ximg_pix[i, 1]),\n",
    "        0, alpha[i, 1] * focal, alpha[i, 1] * (v_0 - Ximg_pix[i, 1]),\n",
    "        0, alpha[i, 2] * focal, alpha[i, 2] * (v_0 - Ximg_pix[i, 1]),\n",
    "        0, alpha[i, 3] * focal, alpha[i, 3] * (v_0 - Ximg_pix[i, 1])\n",
    "    ])"
   ]
  },
  {
   "cell_type": "code",
   "execution_count": 124,
   "metadata": {},
   "outputs": [
    {
     "name": "stdout",
     "output_type": "stream",
     "text": [
      "[[0.070 0.017 0.168 0.308]\n",
      " [-0.041 0.200 0.002 0.234]\n",
      " [0.499 -0.611 0.449 -0.017]\n",
      " [0.057 0.097 0.301 0.325]\n",
      " [0.049 0.181 -0.031 0.146]\n",
      " [0.445 0.693 0.382 -0.275]\n",
      " [0.031 -0.002 0.250 0.363]\n",
      " [0.041 0.173 -0.102 0.125]\n",
      " [0.549 -0.001 -0.584 0.463]\n",
      " [0.014 0.016 0.255 0.342]\n",
      " [0.006 0.180 -0.067 0.167]\n",
      " [0.487 -0.039 -0.220 -0.376]]\n"
     ]
    }
   ],
   "source": [
    "# Compute M_T_M and V\n",
    "M_T_M = np.matmul(M.T,M)\n",
    "W, V = np.linalg.eig(M_T_M)\n",
    "# Other method using svd\n",
    "# Usvd, sig, Vsvd = np.linalg.svd(M)\n",
    "\n",
    "# Finding smallest eigenvalues and their eigenvector\n",
    "idx = W.argsort()\n",
    "K = V[:, idx[:4]]\n",
    "K = np.array(K)\n",
    "kernel = np.array([K.T[3], K.T[2], K.T[1], K.T[0]]).T\n",
    "print(K)"
   ]
  },
  {
   "cell_type": "markdown",
   "metadata": {},
   "source": [
    "## Computing rho, L_6__"
   ]
  },
  {
   "cell_type": "code",
   "execution_count": 125,
   "metadata": {},
   "outputs": [],
   "source": [
    "# Compute rho\n",
    "rho = np.empty((6,1))\n",
    "rho = np.array([\n",
    "    np.linalg.norm(ch_w[:,0]-ch_w[:,1])**2,\n",
    "    np.linalg.norm(ch_w[:,0]-ch_w[:,2])**2,\n",
    "    np.linalg.norm(ch_w[:,0]-ch_w[:,3])**2,\n",
    "    np.linalg.norm(ch_w[:,1]-ch_w[:,2])**2,\n",
    "    np.linalg.norm(ch_w[:,1]-ch_w[:,3])**2,\n",
    "    np.linalg.norm(ch_w[:,2]-ch_w[:,3])**2\n",
    "])"
   ]
  },
  {
   "cell_type": "code",
   "execution_count": 126,
   "metadata": {},
   "outputs": [],
   "source": [
    "# Compute L_6_10\n",
    "# Did not understand this one, \"borrowed\" from epnp python dude\n",
    "# Error: kernel in line 8\n",
    "L_6_10 = np.zeros((6,10))\n",
    "\n",
    "v = []\n",
    "for i in range(4):\n",
    "    v.append(kernel[:, i])\n",
    "\n",
    "dv = []\n",
    "\n",
    "for r in range(4):\n",
    "    dv.append([])\n",
    "    for i in range(3):\n",
    "        for j in range(i+1, 4):\n",
    "            dv[r].append(v[r][3*i:3*(i+1)]-v[r][3*j:3*(j+1)])\n",
    "\n",
    "index = [\n",
    "    (0, 0),\n",
    "    (0, 1),\n",
    "    (1, 1),\n",
    "    (0, 2),\n",
    "    (1, 2),\n",
    "    (2, 2),\n",
    "    (0, 3),\n",
    "    (1, 3),\n",
    "    (2, 3),\n",
    "    (3, 3)\n",
    "    ]\n",
    "\n",
    "for i in range(6):\n",
    "    j = 0\n",
    "    for a, b in index:\n",
    "        L_6_10[i, j] = np.matmul(dv[a][i], dv[b][i].T)\n",
    "        if a != b:\n",
    "            L_6_10[i, j] *= 2\n",
    "        j += 1"
   ]
  },
  {
   "cell_type": "code",
   "execution_count": 127,
   "metadata": {},
   "outputs": [],
   "source": [
    "# Computing L_6_3\n",
    "L_6_3 = L_6_10[:, (5,8,9)]\n",
    "\n",
    "# Computing L_6_6\n",
    "L_6_6 = L_6_10[:, (2, 4, 7, 5, 8, 9)]"
   ]
  },
  {
   "cell_type": "markdown",
   "metadata": {},
   "source": [
    "## Calculating Cc, Xc, sc for each Case"
   ]
  },
  {
   "cell_type": "code",
   "execution_count": 128,
   "metadata": {},
   "outputs": [],
   "source": [
    "# Trying to calculate beta 1\n",
    "def calc_beta_1(V, C):\n",
    "    # Hard coding, maybe efficient afterwards\n",
    "    temp1  = np.linalg.norm(V[0:3]-V[3:6]) *np.linalg.norm(C[0,:]-C[1,:])\n",
    "    temp1 += np.linalg.norm(V[0:3]-V[6:9]) *np.linalg.norm(C[0,:]-C[2,:])\n",
    "    temp1 += np.linalg.norm(V[0:3]-V[9:12])*np.linalg.norm(C[0,:]-C[3,:])\n",
    "    temp1 += np.linalg.norm(V[3:6]-V[6:9]) *np.linalg.norm(C[1,:]-C[2,:])\n",
    "    temp1 += np.linalg.norm(V[3:6]-V[9:12])*np.linalg.norm(C[1,:]-C[3,:])\n",
    "    temp1 += np.linalg.norm(V[6:9]-V[9:12])*np.linalg.norm(C[2,:]-C[3,:])\n",
    "\n",
    "    temp2  = np.linalg.norm(V[0:3]-V[3:6]) **2\n",
    "    temp2 += np.linalg.norm(V[0:3]-V[6:9]) **2\n",
    "    temp2 += np.linalg.norm(V[0:3]-V[9:12])**2\n",
    "    temp2 += np.linalg.norm(V[3:6]-V[6:9]) **2\n",
    "    temp2 += np.linalg.norm(V[3:6]-V[9:12])**2\n",
    "    temp2 += np.linalg.norm(V[6:9]-V[9:12])**2\n",
    "\n",
    "    return temp1/temp2"
   ]
  },
  {
   "cell_type": "code",
   "execution_count": 129,
   "metadata": {},
   "outputs": [],
   "source": [
    "# Computing betas\n",
    "# Case 1 - N = 1\n",
    "beta_1_1 = 100 #[calc_beta_1(K[:, :1], ch_w)]\n",
    "X1 = beta_1_1 * K[:, :1] # X\n",
    "\n",
    "\n",
    "# Case 2 - N = 2\n",
    "# Question: Why K[1] -> K[0]\n",
    "# Question: Why signs\n",
    "betas_2 = np.matmul(np.linalg.pinv(L_6_3), rho)\n",
    "beta_2_1 = np.sqrt(abs(betas_2[0]))\n",
    "beta_2_2 = np.sqrt(abs(betas_2[2])) * np.sign(betas_2[1]) * np.sign(betas_2[0])\n",
    "X2 = beta_2_1 * K[:,1] + beta_2_2 * K[:,0]\n",
    "\n",
    "\n",
    "# Case 3 - N = 3\n",
    "# Question: Why K[2] -> K[1] -> K[0]\n",
    "# Question: Why signs in that order\n",
    "betas_3 = np.matmul(np.linalg.inv(L_6_6), rho)\n",
    "beta_3_1 = math.sqrt(abs(betas_3[0]))\n",
    "beta_3_2 = math.sqrt(abs(betas_3[3])) * np.sign(betas_3[1]) * np.sign(betas_3[0])\n",
    "beta_3_3 = math.sqrt(abs(betas_3[5])) * np.sign(betas_3[2]) * np.sign(betas_3[0])\n",
    "X3 = beta_3_1 * K[:,2] + beta_3_2 * K[:,1] + beta_3_3 * K[:,0]"
   ]
  },
  {
   "cell_type": "code",
   "execution_count": 130,
   "metadata": {},
   "outputs": [
    {
     "name": "stdout",
     "output_type": "stream",
     "text": [
      "(3, 1)\n"
     ]
    }
   ],
   "source": [
    "# Calculating Cc, Xc, sc for each Case\n",
    "# Question: Why sign at the end?\n",
    "# Case 1\n",
    "Cc_1 = []\n",
    "for i in range(4):\n",
    "    Cc_1.append(X1[(3 * i) : (3 * (i + 1))])\n",
    "Cc_1 = np.array(Cc_1).reshape((4,3))\n",
    "\n",
    "Xc_1 = np.matmul(alpha, Cc_1)\n",
    "\n",
    "centr_w = np.mean(Xworld, axis=0)\n",
    "centroid_w = np.tile(centr_w.reshape((1,3)), (n,1))\n",
    "tmp1 = Xworld.reshape((n,3)) - centroid_w\n",
    "dist_w = np.sqrt(np.sum(tmp1**2, axis=1))\n",
    "\n",
    "print(centr_w.shape)\n",
    "\n",
    "centr_c = np.mean(Xc_1, axis=0)\n",
    "centroid_c = np.tile(centr_c.reshape((1,3)), (n,1))\n",
    "tmp2 = Xc_1.reshape((n,3)) - centroid_c\n",
    "dist_c = np.sqrt(np.sum(tmp2**2, axis=1))\n",
    "\n",
    "sc_1_1 = np.matmul(dist_c.T, dist_c) ** -1\n",
    "sc_1_2 = np.matmul(dist_c.T, dist_w)\n",
    "sc_1 = sc_1_1 * sc_1_2\n",
    "\n",
    "Cc_1 *= sc_1\n",
    "Xc_1 = np.matmul(alpha, Cc_1)\n",
    "\n",
    "for x in Xc_1:\n",
    "    if x[-1] < 0:\n",
    "        Xc_1 *= -1\n",
    "        Cc_1 *= -1"
   ]
  },
  {
   "cell_type": "code",
   "execution_count": 131,
   "metadata": {},
   "outputs": [],
   "source": [
    "# Case 2\n",
    "Cc_2 = []\n",
    "for i in range(4):\n",
    "    Cc_2.append(X2[(3 * i) : (3 * (i + 1))])\n",
    "Cc_2 = np.array(Cc_2).reshape((4,3))\n",
    "\n",
    "Xc_2 = np.matmul(alpha, Cc_2)\n",
    "\n",
    "centr_w = np.mean(Xworld, axis=0)\n",
    "centroid_w = np.tile(centr_w.reshape((1,3)), (n,1))\n",
    "tmp1 = Xworld.reshape((n,3))-centroid_w\n",
    "dist_w = np.sqrt(np.sum(tmp1**2, axis=1))\n",
    "\n",
    "centr_c = np.mean(Xc_2, axis=0)\n",
    "centroid_c = np.tile(centr_c.reshape((1,3)), (n,1))\n",
    "tmp2 = Xc_2.reshape((n,3))-centroid_c\n",
    "dist_c = np.sqrt(np.sum(tmp2**2, axis=1))\n",
    "\n",
    "sc_2_1 = np.matmul(dist_c.T, dist_c) ** -1\n",
    "sc_2_2 = np.matmul(dist_c.T, dist_w)\n",
    "sc_2 = sc_2_1 * sc_2_2\n",
    "\n",
    "Cc_2 *= sc_2\n",
    "Xc_2 = np.matmul(alpha, Cc_2)\n",
    "for x in Xc_2:\n",
    "    if x[-1] < 0:\n",
    "        Xc_2 *= -1\n",
    "        Cc_2 *= -1\n"
   ]
  },
  {
   "cell_type": "code",
   "execution_count": 132,
   "metadata": {},
   "outputs": [],
   "source": [
    "# Case 3\n",
    "Cc_3 = []\n",
    "for i in range(4):\n",
    "    Cc_3.append(X3[(3 * i) : (3 * (i + 1))])\n",
    "Cc_3 = np.array(Cc_3).reshape((4,3))\n",
    "\n",
    "Xc_3 = np.matmul(alpha, Cc_3)\n",
    "\n",
    "centr_w = np.mean(Xworld, axis=0)\n",
    "centroid_w = np.tile(centr_w.reshape((1,3)), (n,1))\n",
    "tmp1 = Xworld.reshape((n,3))-centroid_w\n",
    "dist_w = np.sqrt(np.sum(tmp1**2, axis=1))\n",
    "\n",
    "centr_c = np.mean(Xc_3, axis=0)\n",
    "centroid_c = np.tile(centr_c.reshape((1,3)), (n,1))\n",
    "tmp2 = Xc_3.reshape((n,3))-centroid_c\n",
    "dist_c = np.sqrt(np.sum(tmp2**2, axis=1))\n",
    "\n",
    "sc_3_1 = np.matmul(dist_c.T, dist_c) ** -1\n",
    "sc_3_2 = np.matmul(dist_c.T, dist_w)\n",
    "sc_3 = sc_3_1 * sc_3_2\n",
    "\n",
    "Cc_3 *= sc_3\n",
    "Xc_3 = np.matmul(alpha, Cc_3)\n",
    "for x in Xc_3:\n",
    "    if x[-1] < 0:\n",
    "        Xc_3 *= -1\n",
    "        Cc_3 *= -1\n"
   ]
  },
  {
   "cell_type": "code",
   "execution_count": null,
   "metadata": {},
   "outputs": [],
   "source": []
  },
  {
   "cell_type": "code",
   "execution_count": 133,
   "metadata": {},
   "outputs": [
    {
     "data": {
      "text/plain": [
       "16.749310296509876"
      ]
     },
     "execution_count": 133,
     "metadata": {},
     "output_type": "execute_result"
    }
   ],
   "source": [
    "beta = calc_beta_1(K[:,0],ch_w)\n",
    "beta"
   ]
  },
  {
   "cell_type": "markdown",
   "metadata": {},
   "source": [
    "## Calculating Transformation matrix"
   ]
  },
  {
   "cell_type": "code",
   "execution_count": 134,
   "metadata": {},
   "outputs": [],
   "source": [
    "# Calculating Transformation matrix\n",
    "# Case 1\n",
    "wpts = Xworld\n",
    "cpts = Xc_1\n",
    "\n",
    "wcent = np.tile(np.mean(wpts, axis=0).reshape((1, 3)), (n, 1))\n",
    "ccent = np.tile(np.mean(cpts, axis=0).reshape((1, 3)), (n, 1))\n",
    "\n",
    "wpts = wpts.reshape((n, 3)) - wcent\n",
    "cpts = cpts.reshape((n, 3)) - ccent\n",
    "\n",
    "M = np.matmul(cpts.T, wpts)\n",
    "\n",
    "U, S, V = np.linalg.svd(M)\n",
    "R_1 = np.matmul(U, V)\n",
    "\n",
    "if np.linalg.det(R_1) < 0:\n",
    "    R_1 = - R_1\n",
    "    \n",
    "T_1 = ccent[0].transpose() - np.matmul(R_1, wcent[0].transpose())\n",
    "\n",
    "Rt_1 = np.concatenate((R_1.reshape((3, 3)), T_1.reshape((3, 1))), axis=1)"
   ]
  },
  {
   "cell_type": "code",
   "execution_count": 135,
   "metadata": {},
   "outputs": [],
   "source": [
    "# Case 2\n",
    "wpts = Xworld\n",
    "cpts = Xc_2\n",
    "\n",
    "wcent = np.tile(np.mean(wpts, axis=0).reshape((1, 3)), (n, 1))\n",
    "ccent = np.tile(np.mean(cpts, axis=0).reshape((1, 3)), (n, 1))\n",
    "\n",
    "wpts = wpts.reshape((n, 3)) - wcent\n",
    "cpts = cpts.reshape((n, 3)) - ccent\n",
    "\n",
    "M = np.matmul(cpts.T, wpts)\n",
    "\n",
    "U, S, V = np.linalg.svd(M)\n",
    "R_2 = np.matmul(U, V)\n",
    "\n",
    "if np.linalg.det(R_2) < 0:\n",
    "    R_2 = - R_2\n",
    "    \n",
    "T_2 = ccent[0].transpose() - np.matmul(R_2, wcent[0].transpose())\n",
    "\n",
    "Rt_2 = np.concatenate((R_2.reshape((3, 3)), T_2.reshape((3, 1))), axis=1)"
   ]
  },
  {
   "cell_type": "code",
   "execution_count": 136,
   "metadata": {},
   "outputs": [],
   "source": [
    "# Case 3\n",
    "wpts = Xworld\n",
    "cpts = Xc_3\n",
    "\n",
    "wcent = np.tile(np.mean(wpts, axis=0).reshape((1, 3)), (n, 1))\n",
    "ccent = np.tile(np.mean(cpts, axis=0).reshape((1, 3)), (n, 1))\n",
    "\n",
    "wpts = wpts.reshape((n, 3)) - wcent\n",
    "cpts = cpts.reshape((n, 3)) - ccent\n",
    "\n",
    "M = np.matmul(cpts.T, wpts)\n",
    "\n",
    "U, S, V = np.linalg.svd(M)\n",
    "R_3 = np.matmul(U, V)\n",
    "\n",
    "if np.linalg.det(R_3) < 0:\n",
    "    R_3 = - R_3\n",
    "    \n",
    "T_3 = ccent[0].transpose() - np.matmul(R_3, wcent[0].transpose())\n",
    "\n",
    "Rt_3 = np.concatenate((R_3.reshape((3, 3)), T_3.reshape((3, 1))), axis=1)"
   ]
  },
  {
   "cell_type": "code",
   "execution_count": 137,
   "metadata": {},
   "outputs": [],
   "source": [
    "def reprojection_error_usingRT(Xw, U, RT):\n",
    "        A = camera_para\n",
    "        P = np.matmul(A[:, :3], RT)\n",
    "        Xw_h = np.concatenate((Xw.reshape((n, 3)), np.array([np.ones((n))]).T), axis=1)\n",
    "    \n",
    "        Urep = np.matmul(P, Xw_h.T).T\n",
    "        Urep[:, 0] = Urep[:, 0] / Urep[:, 2]\n",
    "        Urep[:, 1] = Urep[:, 1] / Urep[:, 2]\n",
    "        err = np.sqrt((U[:, 0] - Urep[:, 0].reshape((n, 1))) ** 2 + (U[:, 1] - Urep[:, 1].reshape((n, 1))) ** 2)\n",
    "        err = np.sum(err, axis=0) / n\n",
    "\n",
    "        return err[0]"
   ]
  },
  {
   "cell_type": "code",
   "execution_count": 138,
   "metadata": {},
   "outputs": [
    {
     "name": "stdout",
     "output_type": "stream",
     "text": [
      "12.702209361054535 16.34552890678184 23.356483432891583\n"
     ]
    }
   ],
   "source": [
    "err_1 = reprojection_error_usingRT(Xworld, Ximg_pix, Rt_1)\n",
    "err_2 = reprojection_error_usingRT(Xworld, Ximg_pix, Rt_2)\n",
    "err_3 = reprojection_error_usingRT(Xworld, Ximg_pix, Rt_3)\n",
    "print(err_1, err_2, err_3)"
   ]
  },
  {
   "cell_type": "code",
   "execution_count": 139,
   "metadata": {},
   "outputs": [],
   "source": [
    "def plot_3d_reconstruction( method, Xc):\n",
    "        fig = plt.figure()\n",
    "        fig.set_size_inches(18.5, 13)\n",
    "        axes = fig.add_subplot(1, 1, 1)\n",
    "        plt.plot(0, 0, 'ok')\n",
    "        for p in Xcam:\n",
    "            plt.plot(p[0], p[1], '.r')\n",
    "        for p in Xc:\n",
    "            plt.plot(p[0], p[1], 'xg')\n",
    "        axes.set_title(method + ' - Reprojection Error', fontsize=18)\n",
    "        plt.grid()"
   ]
  },
  {
   "cell_type": "markdown",
   "metadata": {},
   "source": [
    "## OpenCV"
   ]
  },
  {
   "cell_type": "code",
   "execution_count": 140,
   "metadata": {},
   "outputs": [],
   "source": [
    "# success_cv, rotation_cv, translation_cv = cv.solvePnP(Xworld, Ximg_pix_true, camera_para, None )\n",
    "# print(success_cv,\"\\n\" ,rotation_cv,\"\\n\",translation_cv)"
   ]
  },
  {
   "cell_type": "markdown",
   "metadata": {},
   "source": [
    "## Plotting"
   ]
  },
  {
   "cell_type": "code",
   "execution_count": 141,
   "metadata": {},
   "outputs": [
    {
     "data": {
      "image/png": "[encoded data removed]",
      "text/plain": [
       "<Figure size 432x288 with 1 Axes>"
      ]
     },
     "metadata": {
      "needs_background": "light"
     },
     "output_type": "display_data"
    }
   ],
   "source": [
    "fig_1 = plt.figure()\n",
    "ax = fig_1.add_subplot(projection='3d')\n",
    "# ax.set_xlim(-1,1)\n",
    "# ax.set_ylim(-1,1)\n",
    "# ax.set_zlim(-3,3)\n",
    "ax.set_xlabel('X-axis')\n",
    "ax.set_ylabel('Y-axis')\n",
    "ax.set_zlabel('Z-axis')\n",
    "\n",
    "# Xc_1 = Xc_1.T\n",
    "scaling = 10\n",
    "\n",
    "for i in range(n):\n",
    "    ax.scatter(Xcam[i][0], Xcam[i][1], Xcam[i][2], c='blue')\n",
    "    ax.scatter(Xc_1[i][0], Xc_1[i][1], Xc_1[i][2], c='red')\n",
    "    # ax.scatter(Xc_2[0][i], Xc_2[1][i], Xc_2[2][i], c='green')\n",
    "plt.show()"
   ]
  },
  {
   "cell_type": "code",
   "execution_count": 142,
   "metadata": {},
   "outputs": [
    {
     "data": {
      "image/png": "[encoded data removed]",
      "text/plain": [
       "<Figure size 432x288 with 1 Axes>"
      ]
     },
     "metadata": {
      "needs_background": "light"
     },
     "output_type": "display_data"
    }
   ],
   "source": [
    "#Plotting points - Decomment to see \"photo of points\"\n",
    "\n",
    "pix_c_1 = Xc_1\n",
    "pix_c_1 = pix_c_1*(1/pix_c_1[:,2].reshape((50,1)))\n",
    "pix_c_1 = pix_c_1 @ camera_para.T\n",
    "\n",
    "fig_1 = plt.figure()\n",
    "ax = fig_1.add_subplot()\n",
    "# ax.set_xlim(0,u_0*2)\n",
    "# ax.set_ylim(0,v_0*2)\n",
    "ax.set_xlabel('X-axis')\n",
    "ax.set_ylabel('Y-axis')\n",
    "\n",
    "for i in range(n):\n",
    "    ax.scatter(Ximg_pix_true[i][0], Ximg_pix_true[i][1], c=\"blue\")\n",
    "    ax.scatter(Ximg_pix[i][0], Ximg_pix[i][1], c=\"green\")\n",
    "    ax.scatter(pix_c_1[i,0], pix_c_1[i,1], c=\"red\")\n",
    "plt.show()"
   ]
  }
 ],
 "metadata": {
  "interpreter": {
   "hash": "5e520d53f3d2b9263b11734e9688a03c9809db32f2004241b6b6e64c140d8e27"
  },
  "kernelspec": {
   "display_name": "Python 3.8.12 64-bit ('Robot_env': conda)",
   "language": "python",
   "name": "python3"
  },
  "language_info": {
   "codemirror_mode": {
    "name": "ipython",
    "version": 3
   },
   "file_extension": ".py",
   "mimetype": "text/x-python",
   "name": "python",
   "nbconvert_exporter": "python",
   "pygments_lexer": "ipython3",
   "version": "3.8.12"
  },
  "orig_nbformat": 4
 },
 "nbformat": 4,
 "nbformat_minor": 2
}
